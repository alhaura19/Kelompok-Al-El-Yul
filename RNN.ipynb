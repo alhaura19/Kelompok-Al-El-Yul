{
 "cells": [
  {
   "cell_type": "code",
   "execution_count": 239,
   "metadata": {},
   "outputs": [],
   "source": [
    "import csv\n",
    "import pandas as pd\n",
    "import numpy as np\n",
    "from sklearn.preprocessing import LabelEncoder"
   ]
  },
  {
   "cell_type": "markdown",
   "metadata": {},
   "source": [
    "# DATA DESCRIPTION"
   ]
  },
  {
   "cell_type": "code",
   "execution_count": 240,
   "metadata": {},
   "outputs": [
    {
     "data": {
      "text/html": [
       "<div>\n",
       "<style scoped>\n",
       "    .dataframe tbody tr th:only-of-type {\n",
       "        vertical-align: middle;\n",
       "    }\n",
       "\n",
       "    .dataframe tbody tr th {\n",
       "        vertical-align: top;\n",
       "    }\n",
       "\n",
       "    .dataframe thead th {\n",
       "        text-align: right;\n",
       "    }\n",
       "</style>\n",
       "<table border=\"1\" class=\"dataframe\">\n",
       "  <thead>\n",
       "    <tr style=\"text-align: right;\">\n",
       "      <th></th>\n",
       "      <th>Name</th>\n",
       "      <th>Description</th>\n",
       "    </tr>\n",
       "  </thead>\n",
       "  <tbody>\n",
       "    <tr>\n",
       "      <th>0</th>\n",
       "      <td>age</td>\n",
       "      <td>age in years</td>\n",
       "    </tr>\n",
       "    <tr>\n",
       "      <th>1</th>\n",
       "      <td>sex</td>\n",
       "      <td>sex (1 = male; 0 = female)</td>\n",
       "    </tr>\n",
       "    <tr>\n",
       "      <th>2</th>\n",
       "      <td>cp</td>\n",
       "      <td>chest pain type; Value 1: typical angina Value...</td>\n",
       "    </tr>\n",
       "    <tr>\n",
       "      <th>3</th>\n",
       "      <td>trestbps</td>\n",
       "      <td>resting blood pressure (in mm Hg on admission ...</td>\n",
       "    </tr>\n",
       "    <tr>\n",
       "      <th>4</th>\n",
       "      <td>chol</td>\n",
       "      <td>serum cholestoral in mg/dl</td>\n",
       "    </tr>\n",
       "    <tr>\n",
       "      <th>5</th>\n",
       "      <td>fbs</td>\n",
       "      <td>fasting blood sugar &gt; 120 mg/dl (1 = true; 0 =...</td>\n",
       "    </tr>\n",
       "    <tr>\n",
       "      <th>6</th>\n",
       "      <td>restecg</td>\n",
       "      <td>resting electrocardiographic results; Value 0:...</td>\n",
       "    </tr>\n",
       "    <tr>\n",
       "      <th>7</th>\n",
       "      <td>thalach</td>\n",
       "      <td>maximum heart rate achieved</td>\n",
       "    </tr>\n",
       "    <tr>\n",
       "      <th>8</th>\n",
       "      <td>exang</td>\n",
       "      <td>exercise induced angina (1 = yes; 0 = no)</td>\n",
       "    </tr>\n",
       "    <tr>\n",
       "      <th>9</th>\n",
       "      <td>oldpeak</td>\n",
       "      <td>ST depression induced by exercise relative to ...</td>\n",
       "    </tr>\n",
       "    <tr>\n",
       "      <th>10</th>\n",
       "      <td>slope</td>\n",
       "      <td>the slope of the peak exercise ST segment; Val...</td>\n",
       "    </tr>\n",
       "    <tr>\n",
       "      <th>11</th>\n",
       "      <td>ca</td>\n",
       "      <td>number of major vessels (0-3) colored by flour...</td>\n",
       "    </tr>\n",
       "    <tr>\n",
       "      <th>12</th>\n",
       "      <td>thal</td>\n",
       "      <td>3 = normal; 6 = fixed defect; 7 = reversable d...</td>\n",
       "    </tr>\n",
       "    <tr>\n",
       "      <th>13</th>\n",
       "      <td>target</td>\n",
       "      <td>Absence (1) or presence (2) of heart disease</td>\n",
       "    </tr>\n",
       "  </tbody>\n",
       "</table>\n",
       "</div>"
      ],
      "text/plain": [
       "        Name                                        Description\n",
       "0        age                                      age in years \n",
       "1        sex                         sex (1 = male; 0 = female)\n",
       "2         cp  chest pain type; Value 1: typical angina Value...\n",
       "3   trestbps  resting blood pressure (in mm Hg on admission ...\n",
       "4       chol                         serum cholestoral in mg/dl\n",
       "5        fbs  fasting blood sugar > 120 mg/dl (1 = true; 0 =...\n",
       "6    restecg  resting electrocardiographic results; Value 0:...\n",
       "7    thalach                        maximum heart rate achieved\n",
       "8      exang          exercise induced angina (1 = yes; 0 = no)\n",
       "9    oldpeak  ST depression induced by exercise relative to ...\n",
       "10     slope  the slope of the peak exercise ST segment; Val...\n",
       "11        ca  number of major vessels (0-3) colored by flour...\n",
       "12      thal  3 = normal; 6 = fixed defect; 7 = reversable d...\n",
       "13    target       Absence (1) or presence (2) of heart disease"
      ]
     },
     "execution_count": 240,
     "metadata": {},
     "output_type": "execute_result"
    }
   ],
   "source": [
    "data_description = pd.read_csv('data_information.csv', names=['Name', 'Description'])\n",
    "data_description"
   ]
  },
  {
   "cell_type": "markdown",
   "metadata": {},
   "source": [
    "# RAW DATA"
   ]
  },
  {
   "cell_type": "code",
   "execution_count": 241,
   "metadata": {},
   "outputs": [
    {
     "data": {
      "text/html": [
       "<div>\n",
       "<style scoped>\n",
       "    .dataframe tbody tr th:only-of-type {\n",
       "        vertical-align: middle;\n",
       "    }\n",
       "\n",
       "    .dataframe tbody tr th {\n",
       "        vertical-align: top;\n",
       "    }\n",
       "\n",
       "    .dataframe thead th {\n",
       "        text-align: right;\n",
       "    }\n",
       "</style>\n",
       "<table border=\"1\" class=\"dataframe\">\n",
       "  <thead>\n",
       "    <tr style=\"text-align: right;\">\n",
       "      <th></th>\n",
       "      <th>age</th>\n",
       "      <th>sex</th>\n",
       "      <th>cp</th>\n",
       "      <th>trestbps</th>\n",
       "      <th>chol</th>\n",
       "      <th>fbs</th>\n",
       "      <th>restecg</th>\n",
       "      <th>thalach</th>\n",
       "      <th>exang</th>\n",
       "      <th>oldpeak</th>\n",
       "      <th>slope</th>\n",
       "      <th>ca</th>\n",
       "      <th>thal</th>\n",
       "      <th>target</th>\n",
       "    </tr>\n",
       "  </thead>\n",
       "  <tbody>\n",
       "    <tr>\n",
       "      <th>0</th>\n",
       "      <td>70.0</td>\n",
       "      <td>1.0</td>\n",
       "      <td>4.0</td>\n",
       "      <td>130.0</td>\n",
       "      <td>322.0</td>\n",
       "      <td>0.0</td>\n",
       "      <td>2.0</td>\n",
       "      <td>109.0</td>\n",
       "      <td>0.0</td>\n",
       "      <td>2.4</td>\n",
       "      <td>2.0</td>\n",
       "      <td>3.0</td>\n",
       "      <td>3.0</td>\n",
       "      <td>2.0</td>\n",
       "    </tr>\n",
       "    <tr>\n",
       "      <th>1</th>\n",
       "      <td>67.0</td>\n",
       "      <td>0.0</td>\n",
       "      <td>3.0</td>\n",
       "      <td>115.0</td>\n",
       "      <td>564.0</td>\n",
       "      <td>0.0</td>\n",
       "      <td>2.0</td>\n",
       "      <td>160.0</td>\n",
       "      <td>0.0</td>\n",
       "      <td>1.6</td>\n",
       "      <td>2.0</td>\n",
       "      <td>0.0</td>\n",
       "      <td>7.0</td>\n",
       "      <td>1.0</td>\n",
       "    </tr>\n",
       "    <tr>\n",
       "      <th>2</th>\n",
       "      <td>57.0</td>\n",
       "      <td>1.0</td>\n",
       "      <td>2.0</td>\n",
       "      <td>124.0</td>\n",
       "      <td>261.0</td>\n",
       "      <td>0.0</td>\n",
       "      <td>0.0</td>\n",
       "      <td>141.0</td>\n",
       "      <td>0.0</td>\n",
       "      <td>0.3</td>\n",
       "      <td>1.0</td>\n",
       "      <td>0.0</td>\n",
       "      <td>7.0</td>\n",
       "      <td>2.0</td>\n",
       "    </tr>\n",
       "    <tr>\n",
       "      <th>3</th>\n",
       "      <td>64.0</td>\n",
       "      <td>1.0</td>\n",
       "      <td>4.0</td>\n",
       "      <td>128.0</td>\n",
       "      <td>263.0</td>\n",
       "      <td>0.0</td>\n",
       "      <td>0.0</td>\n",
       "      <td>105.0</td>\n",
       "      <td>1.0</td>\n",
       "      <td>0.2</td>\n",
       "      <td>2.0</td>\n",
       "      <td>1.0</td>\n",
       "      <td>7.0</td>\n",
       "      <td>1.0</td>\n",
       "    </tr>\n",
       "    <tr>\n",
       "      <th>4</th>\n",
       "      <td>74.0</td>\n",
       "      <td>0.0</td>\n",
       "      <td>2.0</td>\n",
       "      <td>120.0</td>\n",
       "      <td>269.0</td>\n",
       "      <td>0.0</td>\n",
       "      <td>2.0</td>\n",
       "      <td>121.0</td>\n",
       "      <td>1.0</td>\n",
       "      <td>0.2</td>\n",
       "      <td>1.0</td>\n",
       "      <td>1.0</td>\n",
       "      <td>3.0</td>\n",
       "      <td>1.0</td>\n",
       "    </tr>\n",
       "  </tbody>\n",
       "</table>\n",
       "</div>"
      ],
      "text/plain": [
       "    age  sex   cp  trestbps   chol  fbs  restecg  thalach  exang  oldpeak  \\\n",
       "0  70.0  1.0  4.0     130.0  322.0  0.0      2.0    109.0    0.0      2.4   \n",
       "1  67.0  0.0  3.0     115.0  564.0  0.0      2.0    160.0    0.0      1.6   \n",
       "2  57.0  1.0  2.0     124.0  261.0  0.0      0.0    141.0    0.0      0.3   \n",
       "3  64.0  1.0  4.0     128.0  263.0  0.0      0.0    105.0    1.0      0.2   \n",
       "4  74.0  0.0  2.0     120.0  269.0  0.0      2.0    121.0    1.0      0.2   \n",
       "\n",
       "   slope   ca  thal  target  \n",
       "0    2.0  3.0   3.0     2.0  \n",
       "1    2.0  0.0   7.0     1.0  \n",
       "2    1.0  0.0   7.0     2.0  \n",
       "3    2.0  1.0   7.0     1.0  \n",
       "4    1.0  1.0   3.0     1.0  "
      ]
     },
     "execution_count": 241,
     "metadata": {},
     "output_type": "execute_result"
    }
   ],
   "source": [
    "raw = np.loadtxt( 'heart.dat' )\n",
    "\n",
    "data = pd.DataFrame(raw)\n",
    "data.columns = data_description['Name'].values\n",
    "data.head(5)"
   ]
  },
  {
   "cell_type": "markdown",
   "metadata": {},
   "source": [
    "# CATEGORICAL DATA"
   ]
  },
  {
   "cell_type": "code",
   "execution_count": 242,
   "metadata": {},
   "outputs": [
    {
     "data": {
      "text/html": [
       "<div>\n",
       "<style scoped>\n",
       "    .dataframe tbody tr th:only-of-type {\n",
       "        vertical-align: middle;\n",
       "    }\n",
       "\n",
       "    .dataframe tbody tr th {\n",
       "        vertical-align: top;\n",
       "    }\n",
       "\n",
       "    .dataframe thead th {\n",
       "        text-align: right;\n",
       "    }\n",
       "</style>\n",
       "<table border=\"1\" class=\"dataframe\">\n",
       "  <thead>\n",
       "    <tr style=\"text-align: right;\">\n",
       "      <th></th>\n",
       "      <th>age</th>\n",
       "      <th>sex</th>\n",
       "      <th>cp</th>\n",
       "      <th>trestbps</th>\n",
       "      <th>chol</th>\n",
       "      <th>fbs</th>\n",
       "      <th>restecg</th>\n",
       "      <th>thalach</th>\n",
       "      <th>exang</th>\n",
       "      <th>oldpeak</th>\n",
       "      <th>slope</th>\n",
       "      <th>ca</th>\n",
       "      <th>thal</th>\n",
       "      <th>target</th>\n",
       "    </tr>\n",
       "  </thead>\n",
       "  <tbody>\n",
       "    <tr>\n",
       "      <th>0</th>\n",
       "      <td>a4</td>\n",
       "      <td>female</td>\n",
       "      <td>cp4</td>\n",
       "      <td>rb2</td>\n",
       "      <td>sc2</td>\n",
       "      <td>fbs0</td>\n",
       "      <td>hyper</td>\n",
       "      <td>mh2</td>\n",
       "      <td>ang0</td>\n",
       "      <td>op2</td>\n",
       "      <td>flat</td>\n",
       "      <td>nmv3</td>\n",
       "      <td>normal</td>\n",
       "      <td>presence</td>\n",
       "    </tr>\n",
       "    <tr>\n",
       "      <th>1</th>\n",
       "      <td>a4</td>\n",
       "      <td>male</td>\n",
       "      <td>cp3</td>\n",
       "      <td>rb0</td>\n",
       "      <td>sc2</td>\n",
       "      <td>fbs0</td>\n",
       "      <td>hyper</td>\n",
       "      <td>mh2</td>\n",
       "      <td>ang0</td>\n",
       "      <td>op1</td>\n",
       "      <td>flat</td>\n",
       "      <td>nmv0</td>\n",
       "      <td>reversible</td>\n",
       "      <td>absence</td>\n",
       "    </tr>\n",
       "    <tr>\n",
       "      <th>2</th>\n",
       "      <td>a3</td>\n",
       "      <td>female</td>\n",
       "      <td>cp2</td>\n",
       "      <td>rb1</td>\n",
       "      <td>sc2</td>\n",
       "      <td>fbs0</td>\n",
       "      <td>norm</td>\n",
       "      <td>mh2</td>\n",
       "      <td>ang0</td>\n",
       "      <td>op0</td>\n",
       "      <td>up</td>\n",
       "      <td>nmv0</td>\n",
       "      <td>reversible</td>\n",
       "      <td>presence</td>\n",
       "    </tr>\n",
       "    <tr>\n",
       "      <th>3</th>\n",
       "      <td>a3</td>\n",
       "      <td>female</td>\n",
       "      <td>cp4</td>\n",
       "      <td>rb1</td>\n",
       "      <td>sc2</td>\n",
       "      <td>fbs0</td>\n",
       "      <td>norm</td>\n",
       "      <td>mh1</td>\n",
       "      <td>ang1</td>\n",
       "      <td>op0</td>\n",
       "      <td>flat</td>\n",
       "      <td>nmv1</td>\n",
       "      <td>reversible</td>\n",
       "      <td>absence</td>\n",
       "    </tr>\n",
       "    <tr>\n",
       "      <th>4</th>\n",
       "      <td>a4</td>\n",
       "      <td>male</td>\n",
       "      <td>cp2</td>\n",
       "      <td>rb1</td>\n",
       "      <td>sc2</td>\n",
       "      <td>fbs0</td>\n",
       "      <td>hyper</td>\n",
       "      <td>mh2</td>\n",
       "      <td>ang1</td>\n",
       "      <td>op0</td>\n",
       "      <td>up</td>\n",
       "      <td>nmv1</td>\n",
       "      <td>normal</td>\n",
       "      <td>absence</td>\n",
       "    </tr>\n",
       "  </tbody>\n",
       "</table>\n",
       "</div>"
      ],
      "text/plain": [
       "  age     sex   cp trestbps chol   fbs restecg thalach exang oldpeak slope  \\\n",
       "0  a4  female  cp4      rb2  sc2  fbs0   hyper     mh2  ang0     op2  flat   \n",
       "1  a4    male  cp3      rb0  sc2  fbs0   hyper     mh2  ang0     op1  flat   \n",
       "2  a3  female  cp2      rb1  sc2  fbs0    norm     mh2  ang0     op0    up   \n",
       "3  a3  female  cp4      rb1  sc2  fbs0    norm     mh1  ang1     op0  flat   \n",
       "4  a4    male  cp2      rb1  sc2  fbs0   hyper     mh2  ang1     op0    up   \n",
       "\n",
       "     ca        thal    target  \n",
       "0  nmv3      normal  presence  \n",
       "1  nmv0  reversible   absence  \n",
       "2  nmv0  reversible  presence  \n",
       "3  nmv1  reversible   absence  \n",
       "4  nmv1      normal   absence  "
      ]
     },
     "execution_count": 242,
     "metadata": {},
     "output_type": "execute_result"
    }
   ],
   "source": [
    "datacat = pd.read_csv('heartcat.dat', header=None)\n",
    "datacat.columns = data_description['Name'].values\n",
    "datacat.head(5)"
   ]
  },
  {
   "cell_type": "markdown",
   "metadata": {},
   "source": [
    "# VOCAB"
   ]
  },
  {
   "cell_type": "code",
   "execution_count": 243,
   "metadata": {},
   "outputs": [
    {
     "data": {
      "text/plain": [
       "['a0',\n",
       " 'a1',\n",
       " 'a2',\n",
       " 'a3',\n",
       " 'a4',\n",
       " 'male',\n",
       " 'female',\n",
       " 'cp1',\n",
       " 'cp2',\n",
       " 'cp3',\n",
       " 'cp4',\n",
       " 'rb0',\n",
       " 'rb1',\n",
       " 'rb2',\n",
       " 'rb3',\n",
       " 'rb4',\n",
       " 'sc0',\n",
       " 'sc1',\n",
       " 'sc2',\n",
       " 'fbs0',\n",
       " 'fbs1',\n",
       " 'norm',\n",
       " 'abnormal',\n",
       " 'hyper',\n",
       " 'mh0',\n",
       " 'mh1',\n",
       " 'mh2',\n",
       " 'mh3',\n",
       " 'mh4',\n",
       " 'mh5',\n",
       " 'ang0',\n",
       " 'ang1',\n",
       " 'op0',\n",
       " 'op1',\n",
       " 'op2',\n",
       " 'op3',\n",
       " 'op4',\n",
       " 'op5',\n",
       " 'op6',\n",
       " 'up',\n",
       " 'flat',\n",
       " 'down',\n",
       " 'nmv0',\n",
       " 'nmv1',\n",
       " 'nmv2',\n",
       " 'nmv3',\n",
       " 'normal',\n",
       " 'fixed',\n",
       " 'reversible']"
      ]
     },
     "execution_count": 243,
     "metadata": {},
     "output_type": "execute_result"
    }
   ],
   "source": [
    "with open('heartvocab.csv', 'r') as csvFile:\n",
    "    reader = csv.reader(csvFile)\n",
    "    for row in reader:\n",
    "        vocab = row\n",
    "\n",
    "vocab"
   ]
  },
  {
   "cell_type": "markdown",
   "metadata": {},
   "source": [
    "# WORD INDEX"
   ]
  },
  {
   "cell_type": "code",
   "execution_count": 244,
   "metadata": {},
   "outputs": [
    {
     "data": {
      "text/plain": [
       "dict_items([('a0', 0), ('a1', 1), ('a2', 2), ('a3', 3), ('a4', 4), ('male', 5), ('female', 6), ('cp1', 7), ('cp2', 8), ('cp3', 9), ('cp4', 10), ('rb0', 11), ('rb1', 12), ('rb2', 13), ('rb3', 14), ('rb4', 15), ('sc0', 16), ('sc1', 17), ('sc2', 18), ('fbs0', 19), ('fbs1', 20), ('norm', 21), ('abnormal', 22), ('hyper', 23), ('mh0', 24), ('mh1', 25), ('mh2', 26), ('mh3', 27), ('mh4', 28), ('mh5', 29), ('ang0', 30), ('ang1', 31), ('op0', 32), ('op1', 33), ('op2', 34), ('op3', 35), ('op4', 36), ('op5', 37), ('op6', 38), ('up', 39), ('flat', 40), ('down', 41), ('nmv0', 42), ('nmv1', 43), ('nmv2', 44), ('nmv3', 45), ('normal', 46), ('fixed', 47), ('reversible', 48)])"
      ]
     },
     "execution_count": 244,
     "metadata": {},
     "output_type": "execute_result"
    }
   ],
   "source": [
    "# word_index is a dictionary/ vocabulary mapping words to an integer index\n",
    "word_index = {}\n",
    "for w in range(len(vocab)):\n",
    "    word_index[vocab[w]] = {}\n",
    "    word_index[vocab[w]] = (vocab.index(vocab[w]))\n",
    "\n",
    "word_index.items()"
   ]
  },
  {
   "cell_type": "markdown",
   "metadata": {},
   "source": [
    "# SPLIT DATA TO X (FEATURES) AND Y (TARGET)"
   ]
  },
  {
   "cell_type": "code",
   "execution_count": 245,
   "metadata": {},
   "outputs": [
    {
     "data": {
      "text/plain": [
       "array([['a4', 'female', 'cp4', ..., 'flat', 'nmv3', 'normal'],\n",
       "       ['a4', 'male', 'cp3', ..., 'flat', 'nmv0', 'reversible'],\n",
       "       ['a3', 'female', 'cp2', ..., 'up', 'nmv0', 'reversible'],\n",
       "       ...,\n",
       "       ['a3', 'male', 'cp2', ..., 'flat', 'nmv0', 'normal'],\n",
       "       ['a3', 'female', 'cp4', ..., 'flat', 'nmv0', 'fixed'],\n",
       "       ['a4', 'female', 'cp4', ..., 'flat', 'nmv3', 'normal']],\n",
       "      dtype=object)"
      ]
     },
     "execution_count": 245,
     "metadata": {},
     "output_type": "execute_result"
    }
   ],
   "source": [
    "X = datacat.iloc[:,0:13].values\n",
    "X"
   ]
  },
  {
   "cell_type": "code",
   "execution_count": 246,
   "metadata": {},
   "outputs": [
    {
     "data": {
      "text/plain": [
       "array([2., 1., 2., 1., 1.])"
      ]
     },
     "execution_count": 246,
     "metadata": {},
     "output_type": "execute_result"
    }
   ],
   "source": [
    "y = data['target'].values\n",
    "y[:5]"
   ]
  },
  {
   "cell_type": "markdown",
   "metadata": {},
   "source": [
    "# ENCODE DATA"
   ]
  },
  {
   "cell_type": "code",
   "execution_count": 247,
   "metadata": {},
   "outputs": [
    {
     "data": {
      "text/plain": [
       "[[4, 6, 10, 13, 18, 19, 23, 26, 30, 34, 40, 45, 46],\n",
       " [4, 5, 9, 11, 18, 19, 23, 26, 30, 33, 40, 42, 48],\n",
       " [3, 6, 8, 12, 18, 19, 21, 26, 30, 32, 39, 42, 48],\n",
       " [3, 6, 10, 12, 18, 19, 21, 25, 31, 32, 40, 43, 48],\n",
       " [4, 5, 8, 12, 18, 19, 23, 26, 31, 32, 39, 43, 46]]"
      ]
     },
     "execution_count": 247,
     "metadata": {},
     "output_type": "execute_result"
    }
   ],
   "source": [
    "# one hot all docs depend on vocab\n",
    "X_hot = []\n",
    "for t in range(len(X)):\n",
    "    hot = [word_index.get(i, '') for i in X[t]]\n",
    "    X_hot.append(hot)\n",
    "\n",
    "X_hot[:5]"
   ]
  },
  {
   "cell_type": "code",
   "execution_count": 248,
   "metadata": {},
   "outputs": [
    {
     "data": {
      "text/plain": [
       "array([1, 0, 1, 0, 0], dtype=int64)"
      ]
     },
     "execution_count": 248,
     "metadata": {},
     "output_type": "execute_result"
    }
   ],
   "source": [
    "label_encoder = LabelEncoder()\n",
    "y_hot = label_encoder.fit_transform(y) # integer_encoded\n",
    "y_hot[:5]"
   ]
  },
  {
   "cell_type": "markdown",
   "metadata": {},
   "source": [
    "# RNN"
   ]
  },
  {
   "cell_type": "code",
   "execution_count": 249,
   "metadata": {},
   "outputs": [],
   "source": [
    "from keras.models import Sequential\n",
    "from keras.layers import Dense, GRU, Flatten, LSTM\n",
    "from keras.layers.embeddings import Embedding\n",
    "from keras.preprocessing import sequence"
   ]
  },
  {
   "cell_type": "code",
   "execution_count": 250,
   "metadata": {},
   "outputs": [],
   "source": [
    "# # Split data train and test\n",
    "# split_1 = int(0.8 * len(datacat))\n",
    "# train_x = X_hot[:split_1]\n",
    "# test_x = X_hot[split_1:]\n",
    "\n",
    "# train_y = y_hot[:split_1]\n",
    "# test_y = y_hot[split_1:]"
   ]
  },
  {
   "cell_type": "code",
   "execution_count": 251,
   "metadata": {},
   "outputs": [
    {
     "name": "stderr",
     "output_type": "stream",
     "text": [
      "C:\\Users\\ASUS-pc\\Anaconda3\\lib\\site-packages\\sklearn\\model_selection\\_split.py:2179: FutureWarning: From version 0.21, test_size will always complement train_size unless both are specified.\n",
      "  FutureWarning)\n"
     ]
    }
   ],
   "source": [
    "from sklearn.model_selection import train_test_split\n",
    "\n",
    "X_train, X_test, y_train, y_test = train_test_split(X_hot, y_hot, train_size=0.7, random_state=19)\n",
    "X_test, X_val, y_test, y_val  = train_test_split(X_test, y_test, test_size=0.6, random_state=19)"
   ]
  },
  {
   "cell_type": "code",
   "execution_count": 252,
   "metadata": {},
   "outputs": [
    {
     "data": {
      "text/plain": [
       "numpy.ndarray"
      ]
     },
     "execution_count": 252,
     "metadata": {},
     "output_type": "execute_result"
    }
   ],
   "source": [
    "type(y_val)"
   ]
  },
  {
   "cell_type": "code",
   "execution_count": 253,
   "metadata": {},
   "outputs": [
    {
     "name": "stdout",
     "output_type": "stream",
     "text": [
      "{0: 'a0', 1: 'a1', 2: 'a2', 3: 'a3', 4: 'a4', 5: 'male', 6: 'female', 7: 'cp1', 8: 'cp2', 9: 'cp3', 10: 'cp4', 11: 'rb0', 12: 'rb1', 13: 'rb2', 14: 'rb3', 15: 'rb4', 16: 'sc0', 17: 'sc1', 18: 'sc2', 19: 'fbs0', 20: 'fbs1', 21: 'norm', 22: 'abnormal', 23: 'hyper', 24: 'mh0', 25: 'mh1', 26: 'mh2', 27: 'mh3', 28: 'mh4', 29: 'mh5', 30: 'ang0', 31: 'ang1', 32: 'op0', 33: 'op1', 34: 'op2', 35: 'op3', 36: 'op4', 37: 'op5', 38: 'op6', 39: 'up', 40: 'flat', 41: 'down', 42: 'nmv0', 43: 'nmv1', 44: 'nmv2', 45: 'nmv3', 46: 'normal', 47: 'fixed', 48: 'reversible'}\n"
     ]
    }
   ],
   "source": [
    "# We reverse it, mapping integer indices to words\n",
    "reverse_word_index = dict([(value, key) for (key, value) in word_index.items()])\n",
    "print (reverse_word_index)"
   ]
  },
  {
   "cell_type": "code",
   "execution_count": 254,
   "metadata": {},
   "outputs": [
    {
     "name": "stdout",
     "output_type": "stream",
     "text": [
      "[3, 6, 10, 14, 18, 19, 23, 26, 31, 35, 41, 42, 48]\n",
      "a3 female cp4 rb3 sc2 fbs0 hyper mh2 ang1 op3 down nmv0 reversible\n",
      "[3, 5, 10, 13, 18, 19, 23, 26, 31, 32, 40, 42, 46]\n",
      "a3 male cp4 rb2 sc2 fbs0 hyper mh2 ang1 op0 flat nmv0 normal\n"
     ]
    }
   ],
   "source": [
    "for y in range(len(X_train[:2])):\n",
    "    print(X_train[y])\n",
    "    tt = ' '.join([reverse_word_index.get(i,'') for i in X_train[y]])\n",
    "    print (tt)"
   ]
  },
  {
   "cell_type": "code",
   "execution_count": 255,
   "metadata": {},
   "outputs": [
    {
     "data": {
      "text/plain": [
       "[3, 6, 10, 14, 18, 19, 23, 26, 31, 35, 41, 42, 48]"
      ]
     },
     "execution_count": 255,
     "metadata": {},
     "output_type": "execute_result"
    }
   ],
   "source": [
    "X_train[0]"
   ]
  },
  {
   "cell_type": "code",
   "execution_count": 256,
   "metadata": {},
   "outputs": [],
   "source": [
    "X_train = np.array(X_train)\n",
    "X_val = np.array(X_val)\n",
    "X_test = np.array(X_test)"
   ]
  },
  {
   "cell_type": "code",
   "execution_count": 257,
   "metadata": {
    "scrolled": true
   },
   "outputs": [
    {
     "name": "stdout",
     "output_type": "stream",
     "text": [
      "_________________________________________________________________\n",
      "Layer (type)                 Output Shape              Param #   \n",
      "=================================================================\n",
      "embedding_23 (Embedding)     (None, 13, 10)            490       \n",
      "_________________________________________________________________\n",
      "gru_23 (GRU)                 (None, 10)                630       \n",
      "_________________________________________________________________\n",
      "dense_23 (Dense)             (None, 1)                 11        \n",
      "=================================================================\n",
      "Total params: 1,131\n",
      "Trainable params: 1,131\n",
      "Non-trainable params: 0\n",
      "_________________________________________________________________\n",
      "None\n",
      "Train on 189 samples, validate on 49 samples\n",
      "Epoch 1/100\n",
      "189/189 [==============================] - 2s 11ms/step - loss: 0.6948 - acc: 0.3228 - val_loss: 0.6936 - val_acc: 0.5306\n",
      "Epoch 2/100\n",
      "189/189 [==============================] - 0s 127us/step - loss: 0.6933 - acc: 0.5450 - val_loss: 0.6924 - val_acc: 0.5714\n",
      "Epoch 3/100\n",
      "189/189 [==============================] - 0s 132us/step - loss: 0.6921 - acc: 0.5450 - val_loss: 0.6913 - val_acc: 0.5714\n",
      "Epoch 4/100\n",
      "189/189 [==============================] - 0s 153us/step - loss: 0.6909 - acc: 0.5450 - val_loss: 0.6903 - val_acc: 0.5714\n",
      "Epoch 5/100\n",
      "189/189 [==============================] - 0s 148us/step - loss: 0.6898 - acc: 0.5450 - val_loss: 0.6893 - val_acc: 0.5714\n",
      "Epoch 6/100\n",
      "189/189 [==============================] - 0s 137us/step - loss: 0.6888 - acc: 0.5450 - val_loss: 0.6885 - val_acc: 0.5714\n",
      "Epoch 7/100\n",
      "189/189 [==============================] - 0s 137us/step - loss: 0.6878 - acc: 0.5450 - val_loss: 0.6875 - val_acc: 0.5714\n",
      "Epoch 8/100\n",
      "189/189 [==============================] - 0s 127us/step - loss: 0.6868 - acc: 0.5450 - val_loss: 0.6864 - val_acc: 0.5714\n",
      "Epoch 9/100\n",
      "189/189 [==============================] - 0s 95us/step - loss: 0.6856 - acc: 0.5820 - val_loss: 0.6854 - val_acc: 0.5918\n",
      "Epoch 10/100\n",
      "189/189 [==============================] - 0s 158us/step - loss: 0.6843 - acc: 0.6138 - val_loss: 0.6842 - val_acc: 0.6327\n",
      "Epoch 11/100\n",
      "189/189 [==============================] - 0s 132us/step - loss: 0.6829 - acc: 0.6614 - val_loss: 0.6830 - val_acc: 0.6735\n",
      "Epoch 12/100\n",
      "189/189 [==============================] - 0s 158us/step - loss: 0.6814 - acc: 0.6931 - val_loss: 0.6816 - val_acc: 0.7143\n",
      "Epoch 13/100\n",
      "189/189 [==============================] - 0s 111us/step - loss: 0.6797 - acc: 0.7037 - val_loss: 0.6801 - val_acc: 0.7143\n",
      "Epoch 14/100\n",
      "189/189 [==============================] - 0s 106us/step - loss: 0.6779 - acc: 0.7143 - val_loss: 0.6785 - val_acc: 0.7347\n",
      "Epoch 15/100\n",
      "189/189 [==============================] - 0s 95us/step - loss: 0.6760 - acc: 0.7513 - val_loss: 0.6767 - val_acc: 0.7347\n",
      "Epoch 16/100\n",
      "189/189 [==============================] - 0s 111us/step - loss: 0.6738 - acc: 0.7619 - val_loss: 0.6748 - val_acc: 0.7551\n",
      "Epoch 17/100\n",
      "189/189 [==============================] - 0s 137us/step - loss: 0.6714 - acc: 0.7884 - val_loss: 0.6726 - val_acc: 0.7551\n",
      "Epoch 18/100\n",
      "189/189 [==============================] - 0s 111us/step - loss: 0.6688 - acc: 0.7937 - val_loss: 0.6701 - val_acc: 0.7755\n",
      "Epoch 19/100\n",
      "189/189 [==============================] - 0s 121us/step - loss: 0.6658 - acc: 0.7989 - val_loss: 0.6672 - val_acc: 0.7551\n",
      "Epoch 20/100\n",
      "189/189 [==============================] - 0s 106us/step - loss: 0.6623 - acc: 0.7989 - val_loss: 0.6639 - val_acc: 0.7755\n",
      "Epoch 21/100\n",
      "189/189 [==============================] - 0s 90us/step - loss: 0.6585 - acc: 0.7989 - val_loss: 0.6604 - val_acc: 0.7755\n",
      "Epoch 22/100\n",
      "189/189 [==============================] - 0s 121us/step - loss: 0.6545 - acc: 0.7937 - val_loss: 0.6566 - val_acc: 0.7755\n",
      "Epoch 23/100\n",
      "189/189 [==============================] - 0s 100us/step - loss: 0.6500 - acc: 0.7989 - val_loss: 0.6524 - val_acc: 0.7755\n",
      "Epoch 24/100\n",
      "189/189 [==============================] - 0s 95us/step - loss: 0.6449 - acc: 0.8042 - val_loss: 0.6479 - val_acc: 0.7959\n",
      "Epoch 25/100\n",
      "189/189 [==============================] - 0s 148us/step - loss: 0.6398 - acc: 0.8042 - val_loss: 0.6431 - val_acc: 0.7959\n",
      "Epoch 26/100\n",
      "189/189 [==============================] - 0s 106us/step - loss: 0.6341 - acc: 0.8148 - val_loss: 0.6380 - val_acc: 0.7959\n",
      "Epoch 27/100\n",
      "189/189 [==============================] - 0s 132us/step - loss: 0.6281 - acc: 0.8201 - val_loss: 0.6326 - val_acc: 0.7959\n",
      "Epoch 28/100\n",
      "189/189 [==============================] - 0s 106us/step - loss: 0.6215 - acc: 0.8201 - val_loss: 0.6268 - val_acc: 0.7959\n",
      "Epoch 29/100\n",
      "189/189 [==============================] - 0s 132us/step - loss: 0.6155 - acc: 0.8148 - val_loss: 0.6205 - val_acc: 0.7959\n",
      "Epoch 30/100\n",
      "189/189 [==============================] - 0s 90us/step - loss: 0.6077 - acc: 0.8148 - val_loss: 0.6138 - val_acc: 0.7959\n",
      "Epoch 31/100\n",
      "189/189 [==============================] - 0s 116us/step - loss: 0.6001 - acc: 0.8148 - val_loss: 0.6067 - val_acc: 0.7959\n",
      "Epoch 32/100\n",
      "189/189 [==============================] - 0s 106us/step - loss: 0.5919 - acc: 0.8148 - val_loss: 0.5991 - val_acc: 0.7959\n",
      "Epoch 33/100\n",
      "189/189 [==============================] - 0s 95us/step - loss: 0.5835 - acc: 0.8148 - val_loss: 0.5912 - val_acc: 0.8163\n",
      "Epoch 34/100\n",
      "189/189 [==============================] - 0s 132us/step - loss: 0.5746 - acc: 0.8201 - val_loss: 0.5829 - val_acc: 0.8163\n",
      "Epoch 35/100\n",
      "189/189 [==============================] - 0s 100us/step - loss: 0.5648 - acc: 0.8201 - val_loss: 0.5740 - val_acc: 0.8163\n",
      "Epoch 36/100\n",
      "189/189 [==============================] - 0s 90us/step - loss: 0.5548 - acc: 0.8201 - val_loss: 0.5645 - val_acc: 0.8163\n",
      "Epoch 37/100\n",
      "189/189 [==============================] - 0s 127us/step - loss: 0.5446 - acc: 0.8254 - val_loss: 0.5543 - val_acc: 0.8367\n",
      "Epoch 38/100\n",
      "189/189 [==============================] - 0s 116us/step - loss: 0.5324 - acc: 0.8254 - val_loss: 0.5439 - val_acc: 0.8367\n",
      "Epoch 39/100\n",
      "189/189 [==============================] - 0s 95us/step - loss: 0.5211 - acc: 0.8254 - val_loss: 0.5326 - val_acc: 0.8367\n",
      "Epoch 40/100\n",
      "189/189 [==============================] - 0s 137us/step - loss: 0.5090 - acc: 0.8307 - val_loss: 0.5207 - val_acc: 0.8367\n",
      "Epoch 41/100\n",
      "189/189 [==============================] - 0s 90us/step - loss: 0.4958 - acc: 0.8360 - val_loss: 0.5078 - val_acc: 0.8367\n",
      "Epoch 42/100\n",
      "189/189 [==============================] - 0s 100us/step - loss: 0.4818 - acc: 0.8360 - val_loss: 0.4939 - val_acc: 0.8367\n",
      "Epoch 43/100\n",
      "189/189 [==============================] - ETA: 0s - loss: 0.4749 - acc: 0.859 - 0s 116us/step - loss: 0.4673 - acc: 0.8413 - val_loss: 0.4791 - val_acc: 0.8367\n",
      "Epoch 44/100\n",
      "189/189 [==============================] - 0s 127us/step - loss: 0.4520 - acc: 0.8466 - val_loss: 0.4628 - val_acc: 0.8367\n",
      "Epoch 45/100\n",
      "189/189 [==============================] - 0s 106us/step - loss: 0.4362 - acc: 0.8466 - val_loss: 0.4451 - val_acc: 0.8367\n",
      "Epoch 46/100\n",
      "189/189 [==============================] - 0s 95us/step - loss: 0.4210 - acc: 0.8519 - val_loss: 0.4259 - val_acc: 0.8367\n",
      "Epoch 47/100\n",
      "189/189 [==============================] - 0s 121us/step - loss: 0.4035 - acc: 0.8519 - val_loss: 0.4065 - val_acc: 0.8571\n",
      "Epoch 48/100\n",
      "189/189 [==============================] - 0s 137us/step - loss: 0.3939 - acc: 0.8519 - val_loss: 0.3911 - val_acc: 0.8571\n",
      "Epoch 49/100\n",
      "189/189 [==============================] - 0s 121us/step - loss: 0.3807 - acc: 0.8571 - val_loss: 0.3800 - val_acc: 0.8571\n",
      "Epoch 50/100\n",
      "189/189 [==============================] - 0s 153us/step - loss: 0.3720 - acc: 0.8624 - val_loss: 0.3729 - val_acc: 0.8571\n",
      "Epoch 51/100\n",
      "189/189 [==============================] - 0s 169us/step - loss: 0.3711 - acc: 0.8571 - val_loss: 0.3694 - val_acc: 0.8571\n",
      "Epoch 52/100\n",
      "189/189 [==============================] - 0s 127us/step - loss: 0.3620 - acc: 0.8571 - val_loss: 0.3630 - val_acc: 0.8571\n",
      "Epoch 53/100\n",
      "189/189 [==============================] - 0s 148us/step - loss: 0.3540 - acc: 0.8571 - val_loss: 0.3579 - val_acc: 0.8776\n",
      "Epoch 54/100\n",
      "189/189 [==============================] - 0s 158us/step - loss: 0.3471 - acc: 0.8571 - val_loss: 0.3535 - val_acc: 0.8980\n",
      "Epoch 55/100\n"
     ]
    },
    {
     "name": "stdout",
     "output_type": "stream",
     "text": [
      "189/189 [==============================] - 0s 137us/step - loss: 0.3426 - acc: 0.8571 - val_loss: 0.3513 - val_acc: 0.8980\n",
      "Epoch 56/100\n",
      "189/189 [==============================] - 0s 95us/step - loss: 0.3356 - acc: 0.8571 - val_loss: 0.3483 - val_acc: 0.8980\n",
      "Epoch 57/100\n",
      "189/189 [==============================] - 0s 90us/step - loss: 0.3315 - acc: 0.8624 - val_loss: 0.3473 - val_acc: 0.8980\n",
      "Epoch 58/100\n",
      "189/189 [==============================] - 0s 84us/step - loss: 0.3283 - acc: 0.8677 - val_loss: 0.3461 - val_acc: 0.8776\n",
      "Epoch 59/100\n",
      "189/189 [==============================] - 0s 90us/step - loss: 0.3240 - acc: 0.8624 - val_loss: 0.3463 - val_acc: 0.8776\n",
      "Epoch 60/100\n",
      "189/189 [==============================] - 0s 137us/step - loss: 0.3181 - acc: 0.8677 - val_loss: 0.3504 - val_acc: 0.8776\n",
      "Epoch 61/100\n",
      "189/189 [==============================] - 0s 116us/step - loss: 0.3152 - acc: 0.8730 - val_loss: 0.3511 - val_acc: 0.8776\n",
      "Epoch 62/100\n",
      "189/189 [==============================] - 0s 90us/step - loss: 0.3127 - acc: 0.8730 - val_loss: 0.3520 - val_acc: 0.8776\n",
      "Epoch 63/100\n",
      "189/189 [==============================] - 0s 90us/step - loss: 0.3084 - acc: 0.8783 - val_loss: 0.3553 - val_acc: 0.8776\n",
      "Epoch 64/100\n",
      "189/189 [==============================] - 0s 106us/step - loss: 0.3052 - acc: 0.8836 - val_loss: 0.3590 - val_acc: 0.8776\n",
      "Epoch 65/100\n",
      "189/189 [==============================] - 0s 111us/step - loss: 0.3031 - acc: 0.8783 - val_loss: 0.3628 - val_acc: 0.8776\n",
      "Epoch 66/100\n",
      "189/189 [==============================] - 0s 121us/step - loss: 0.3010 - acc: 0.8783 - val_loss: 0.3655 - val_acc: 0.8776\n",
      "Epoch 67/100\n",
      "189/189 [==============================] - 0s 111us/step - loss: 0.2989 - acc: 0.8783 - val_loss: 0.3672 - val_acc: 0.8776\n",
      "Epoch 68/100\n",
      "189/189 [==============================] - 0s 132us/step - loss: 0.2966 - acc: 0.8836 - val_loss: 0.3675 - val_acc: 0.8571\n",
      "Epoch 69/100\n",
      "189/189 [==============================] - 0s 111us/step - loss: 0.2963 - acc: 0.8836 - val_loss: 0.3740 - val_acc: 0.8571\n",
      "Epoch 70/100\n",
      "189/189 [==============================] - 0s 121us/step - loss: 0.2933 - acc: 0.8889 - val_loss: 0.3759 - val_acc: 0.8571\n",
      "Epoch 71/100\n",
      "189/189 [==============================] - 0s 100us/step - loss: 0.2934 - acc: 0.8889 - val_loss: 0.3819 - val_acc: 0.8367\n",
      "Epoch 72/100\n",
      "189/189 [==============================] - 0s 142us/step - loss: 0.2928 - acc: 0.8889 - val_loss: 0.3814 - val_acc: 0.8571\n",
      "Epoch 73/100\n",
      "189/189 [==============================] - 0s 95us/step - loss: 0.2898 - acc: 0.8889 - val_loss: 0.3811 - val_acc: 0.8571\n",
      "Epoch 74/100\n",
      "189/189 [==============================] - 0s 148us/step - loss: 0.2883 - acc: 0.8889 - val_loss: 0.3853 - val_acc: 0.8367\n",
      "Epoch 75/100\n",
      "189/189 [==============================] - 0s 100us/step - loss: 0.2870 - acc: 0.8942 - val_loss: 0.3879 - val_acc: 0.8367\n",
      "Epoch 76/100\n",
      "189/189 [==============================] - 0s 137us/step - loss: 0.2852 - acc: 0.8942 - val_loss: 0.3938 - val_acc: 0.8367\n",
      "Epoch 77/100\n",
      "189/189 [==============================] - 0s 132us/step - loss: 0.2849 - acc: 0.8942 - val_loss: 0.3970 - val_acc: 0.8367\n",
      "Epoch 78/100\n",
      "189/189 [==============================] - 0s 121us/step - loss: 0.2834 - acc: 0.8942 - val_loss: 0.4008 - val_acc: 0.8367\n",
      "Epoch 79/100\n",
      "189/189 [==============================] - 0s 100us/step - loss: 0.2840 - acc: 0.8942 - val_loss: 0.3965 - val_acc: 0.8367\n",
      "Epoch 80/100\n",
      "189/189 [==============================] - 0s 100us/step - loss: 0.2831 - acc: 0.8942 - val_loss: 0.3921 - val_acc: 0.8367\n",
      "Epoch 81/100\n",
      "189/189 [==============================] - 0s 121us/step - loss: 0.2836 - acc: 0.8836 - val_loss: 0.3952 - val_acc: 0.8367\n",
      "Epoch 82/100\n",
      "189/189 [==============================] - 0s 137us/step - loss: 0.2783 - acc: 0.8942 - val_loss: 0.4119 - val_acc: 0.8367\n",
      "Epoch 83/100\n",
      "189/189 [==============================] - 0s 111us/step - loss: 0.2798 - acc: 0.8995 - val_loss: 0.4173 - val_acc: 0.8367\n",
      "Epoch 84/100\n",
      "189/189 [==============================] - 0s 95us/step - loss: 0.2777 - acc: 0.8995 - val_loss: 0.4134 - val_acc: 0.8367\n",
      "Epoch 85/100\n",
      "189/189 [==============================] - 0s 132us/step - loss: 0.2783 - acc: 0.8995 - val_loss: 0.4126 - val_acc: 0.8367\n",
      "Epoch 86/100\n",
      "189/189 [==============================] - 0s 106us/step - loss: 0.2775 - acc: 0.8942 - val_loss: 0.4136 - val_acc: 0.8367\n",
      "Epoch 87/100\n",
      "189/189 [==============================] - 0s 132us/step - loss: 0.2765 - acc: 0.8995 - val_loss: 0.4147 - val_acc: 0.8367\n",
      "Epoch 88/100\n",
      "189/189 [==============================] - 0s 95us/step - loss: 0.2745 - acc: 0.8995 - val_loss: 0.4108 - val_acc: 0.8367\n",
      "Epoch 89/100\n",
      "189/189 [==============================] - 0s 100us/step - loss: 0.2731 - acc: 0.8995 - val_loss: 0.4068 - val_acc: 0.8367\n",
      "Epoch 90/100\n",
      "189/189 [==============================] - 0s 111us/step - loss: 0.2709 - acc: 0.8942 - val_loss: 0.4108 - val_acc: 0.8367\n",
      "Epoch 91/100\n",
      "189/189 [==============================] - 0s 90us/step - loss: 0.2702 - acc: 0.8942 - val_loss: 0.4195 - val_acc: 0.8367\n",
      "Epoch 92/100\n",
      "189/189 [==============================] - 0s 95us/step - loss: 0.2696 - acc: 0.8942 - val_loss: 0.4370 - val_acc: 0.8367\n",
      "Epoch 93/100\n",
      "189/189 [==============================] - 0s 95us/step - loss: 0.2682 - acc: 0.9048 - val_loss: 0.4392 - val_acc: 0.8367\n",
      "Epoch 94/100\n",
      "189/189 [==============================] - 0s 116us/step - loss: 0.2678 - acc: 0.9048 - val_loss: 0.4395 - val_acc: 0.8367\n",
      "Epoch 95/100\n",
      "189/189 [==============================] - 0s 95us/step - loss: 0.2669 - acc: 0.8942 - val_loss: 0.4385 - val_acc: 0.8163\n",
      "Epoch 96/100\n",
      "189/189 [==============================] - 0s 100us/step - loss: 0.2682 - acc: 0.8995 - val_loss: 0.4389 - val_acc: 0.8367\n",
      "Epoch 97/100\n",
      "189/189 [==============================] - 0s 106us/step - loss: 0.2645 - acc: 0.9048 - val_loss: 0.4297 - val_acc: 0.8367\n",
      "Epoch 98/100\n",
      "189/189 [==============================] - 0s 106us/step - loss: 0.2636 - acc: 0.8995 - val_loss: 0.4269 - val_acc: 0.8367\n",
      "Epoch 99/100\n",
      "189/189 [==============================] - 0s 95us/step - loss: 0.2621 - acc: 0.8995 - val_loss: 0.4270 - val_acc: 0.8163\n",
      "Epoch 100/100\n",
      "189/189 [==============================] - 0s 100us/step - loss: 0.2609 - acc: 0.8942 - val_loss: 0.4322 - val_acc: 0.8163\n"
     ]
    }
   ],
   "source": [
    "# create the model RNN\n",
    "model = Sequential()\n",
    "model.add(Embedding(len(vocab), 10, input_length=(len(X_train[0]))))\n",
    "model.add(GRU(10, activation='relu'))\n",
    "model.add(Dense(1, activation='sigmoid'))\n",
    "model.compile(loss='binary_crossentropy', optimizer='adam', metrics=['accuracy'])\n",
    "print(model.summary())\n",
    "\n",
    "# Train\n",
    "h = model.fit(X_train, y_train, validation_data=(X_val, y_val), epochs=100, batch_size=64)\n",
    "#f =model.fit(X_train, y_train, validation_data=(X_val, y_val), epochs=100, batch_size=64)"
   ]
  },
  {
   "cell_type": "code",
   "execution_count": 258,
   "metadata": {},
   "outputs": [
    {
     "name": "stdout",
     "output_type": "stream",
     "text": [
      "Accuracy: 81.25%\n",
      "Log loss:  0.28978919982910156\n"
     ]
    }
   ],
   "source": [
    "# Final evaluation of the model\n",
    "loss, score = model.evaluate(X_test, y_test, verbose=0)\n",
    "print(\"Accuracy: %.2f%%\" % (score*100))\n",
    "print(\"Log loss: \", loss)"
   ]
  },
  {
   "cell_type": "code",
   "execution_count": 271,
   "metadata": {},
   "outputs": [
    {
     "data": {
      "text/plain": [
       "0.9554655870445344"
      ]
     },
     "execution_count": 271,
     "metadata": {},
     "output_type": "execute_result"
    }
   ],
   "source": [
    "from sklearn.metrics import roc_auc_score\n",
    "\n",
    "y_pred = model.predict(X_test)\n",
    "roc_auc_score(y_test, y_pred)"
   ]
  },
  {
   "cell_type": "code",
   "execution_count": null,
   "metadata": {},
   "outputs": [],
   "source": []
  },
  {
   "cell_type": "code",
   "execution_count": 264,
   "metadata": {},
   "outputs": [
    {
     "name": "stdout",
     "output_type": "stream",
     "text": [
      "_________________________________________________________________\n",
      "Layer (type)                 Output Shape              Param #   \n",
      "=================================================================\n",
      "embedding_25 (Embedding)     (None, 13, 10)            490       \n",
      "_________________________________________________________________\n",
      "gru_25 (GRU)                 (None, 10)                630       \n",
      "_________________________________________________________________\n",
      "dense_25 (Dense)             (None, 1)                 11        \n",
      "=================================================================\n",
      "Total params: 1,131\n",
      "Trainable params: 1,131\n",
      "Non-trainable params: 0\n",
      "_________________________________________________________________\n",
      "None\n",
      "Train on 189 samples, validate on 49 samples\n",
      "Epoch 1/100\n",
      "189/189 [==============================] - 2s 12ms/step - loss: 0.6908 - acc: 0.7196 - val_loss: 0.6899 - val_acc: 0.7551\n",
      "Epoch 2/100\n",
      "189/189 [==============================] - 0s 95us/step - loss: 0.6887 - acc: 0.7354 - val_loss: 0.6878 - val_acc: 0.6327\n",
      "Epoch 3/100\n",
      "189/189 [==============================] - 0s 116us/step - loss: 0.6867 - acc: 0.6561 - val_loss: 0.6858 - val_acc: 0.6122\n",
      "Epoch 4/100\n",
      "189/189 [==============================] - 0s 111us/step - loss: 0.6845 - acc: 0.6455 - val_loss: 0.6837 - val_acc: 0.5918\n",
      "Epoch 5/100\n",
      "189/189 [==============================] - 0s 116us/step - loss: 0.6823 - acc: 0.6243 - val_loss: 0.6815 - val_acc: 0.5918\n",
      "Epoch 6/100\n",
      "189/189 [==============================] - 0s 127us/step - loss: 0.6801 - acc: 0.6032 - val_loss: 0.6791 - val_acc: 0.5918\n",
      "Epoch 7/100\n",
      "189/189 [==============================] - 0s 137us/step - loss: 0.6776 - acc: 0.6085 - val_loss: 0.6766 - val_acc: 0.5918\n",
      "Epoch 8/100\n",
      "189/189 [==============================] - 0s 95us/step - loss: 0.6749 - acc: 0.6085 - val_loss: 0.6739 - val_acc: 0.5918\n",
      "Epoch 9/100\n",
      "189/189 [==============================] - 0s 142us/step - loss: 0.6721 - acc: 0.6085 - val_loss: 0.6709 - val_acc: 0.5918\n",
      "Epoch 10/100\n",
      "189/189 [==============================] - 0s 100us/step - loss: 0.6689 - acc: 0.6138 - val_loss: 0.6678 - val_acc: 0.6122\n",
      "Epoch 11/100\n",
      "189/189 [==============================] - 0s 158us/step - loss: 0.6655 - acc: 0.6402 - val_loss: 0.6643 - val_acc: 0.6735\n",
      "Epoch 12/100\n",
      "189/189 [==============================] - 0s 95us/step - loss: 0.6618 - acc: 0.6825 - val_loss: 0.6606 - val_acc: 0.6735\n",
      "Epoch 13/100\n",
      "189/189 [==============================] - 0s 169us/step - loss: 0.6578 - acc: 0.6931 - val_loss: 0.6565 - val_acc: 0.6735\n",
      "Epoch 14/100\n",
      "189/189 [==============================] - 0s 111us/step - loss: 0.6538 - acc: 0.6931 - val_loss: 0.6521 - val_acc: 0.6735\n",
      "Epoch 15/100\n",
      "189/189 [==============================] - 0s 132us/step - loss: 0.6487 - acc: 0.7037 - val_loss: 0.6474 - val_acc: 0.6939\n",
      "Epoch 16/100\n",
      "189/189 [==============================] - 0s 148us/step - loss: 0.6434 - acc: 0.7037 - val_loss: 0.6423 - val_acc: 0.6939\n",
      "Epoch 17/100\n",
      "189/189 [==============================] - 0s 106us/step - loss: 0.6381 - acc: 0.7143 - val_loss: 0.6368 - val_acc: 0.7143\n",
      "Epoch 18/100\n",
      "189/189 [==============================] - 0s 148us/step - loss: 0.6320 - acc: 0.7249 - val_loss: 0.6309 - val_acc: 0.7347\n",
      "Epoch 19/100\n",
      "189/189 [==============================] - 0s 95us/step - loss: 0.6259 - acc: 0.7302 - val_loss: 0.6245 - val_acc: 0.7551\n",
      "Epoch 20/100\n",
      "189/189 [==============================] - 0s 148us/step - loss: 0.6185 - acc: 0.7407 - val_loss: 0.6178 - val_acc: 0.7959\n",
      "Epoch 21/100\n",
      "189/189 [==============================] - 0s 106us/step - loss: 0.6112 - acc: 0.7725 - val_loss: 0.6107 - val_acc: 0.7959\n",
      "Epoch 22/100\n",
      "189/189 [==============================] - 0s 137us/step - loss: 0.6035 - acc: 0.7778 - val_loss: 0.6031 - val_acc: 0.7959\n",
      "Epoch 23/100\n",
      "189/189 [==============================] - 0s 158us/step - loss: 0.5955 - acc: 0.7831 - val_loss: 0.5951 - val_acc: 0.7959\n",
      "Epoch 24/100\n",
      "189/189 [==============================] - 0s 100us/step - loss: 0.5866 - acc: 0.7831 - val_loss: 0.5866 - val_acc: 0.8163\n",
      "Epoch 25/100\n",
      "189/189 [==============================] - 0s 100us/step - loss: 0.5779 - acc: 0.7831 - val_loss: 0.5776 - val_acc: 0.7959\n",
      "Epoch 26/100\n",
      "189/189 [==============================] - 0s 153us/step - loss: 0.5680 - acc: 0.7937 - val_loss: 0.5684 - val_acc: 0.7959\n",
      "Epoch 27/100\n",
      "189/189 [==============================] - 0s 106us/step - loss: 0.5585 - acc: 0.8095 - val_loss: 0.5587 - val_acc: 0.8367\n",
      "Epoch 28/100\n",
      "189/189 [==============================] - 0s 95us/step - loss: 0.5480 - acc: 0.8095 - val_loss: 0.5487 - val_acc: 0.8367\n",
      "Epoch 29/100\n",
      "189/189 [==============================] - 0s 84us/step - loss: 0.5373 - acc: 0.8095 - val_loss: 0.5385 - val_acc: 0.8367\n",
      "Epoch 30/100\n",
      "189/189 [==============================] - 0s 132us/step - loss: 0.5267 - acc: 0.8201 - val_loss: 0.5280 - val_acc: 0.8367\n",
      "Epoch 31/100\n",
      "189/189 [==============================] - 0s 111us/step - loss: 0.5153 - acc: 0.8148 - val_loss: 0.5175 - val_acc: 0.8367\n",
      "Epoch 32/100\n",
      "189/189 [==============================] - 0s 95us/step - loss: 0.5044 - acc: 0.8201 - val_loss: 0.5069 - val_acc: 0.8367\n",
      "Epoch 33/100\n",
      "189/189 [==============================] - 0s 100us/step - loss: 0.4934 - acc: 0.8307 - val_loss: 0.4963 - val_acc: 0.8367\n",
      "Epoch 34/100\n",
      "189/189 [==============================] - 0s 132us/step - loss: 0.4836 - acc: 0.8466 - val_loss: 0.4855 - val_acc: 0.8776\n",
      "Epoch 35/100\n",
      "189/189 [==============================] - 0s 132us/step - loss: 0.4723 - acc: 0.8413 - val_loss: 0.4750 - val_acc: 0.8980\n",
      "Epoch 36/100\n",
      "189/189 [==============================] - 0s 142us/step - loss: 0.4623 - acc: 0.8466 - val_loss: 0.4646 - val_acc: 0.8980\n",
      "Epoch 37/100\n",
      "189/189 [==============================] - 0s 137us/step - loss: 0.4520 - acc: 0.8466 - val_loss: 0.4546 - val_acc: 0.8980\n",
      "Epoch 38/100\n",
      "189/189 [==============================] - 0s 158us/step - loss: 0.4429 - acc: 0.8519 - val_loss: 0.4447 - val_acc: 0.8980\n",
      "Epoch 39/100\n",
      "189/189 [==============================] - 0s 158us/step - loss: 0.4333 - acc: 0.8571 - val_loss: 0.4353 - val_acc: 0.8980\n",
      "Epoch 40/100\n",
      "189/189 [==============================] - 0s 179us/step - loss: 0.4249 - acc: 0.8624 - val_loss: 0.4261 - val_acc: 0.8980\n",
      "Epoch 41/100\n",
      "189/189 [==============================] - 0s 127us/step - loss: 0.4161 - acc: 0.8677 - val_loss: 0.4175 - val_acc: 0.8980\n",
      "Epoch 42/100\n",
      "189/189 [==============================] - 0s 100us/step - loss: 0.4079 - acc: 0.8677 - val_loss: 0.4090 - val_acc: 0.8980\n",
      "Epoch 43/100\n",
      "189/189 [==============================] - 0s 116us/step - loss: 0.4008 - acc: 0.8624 - val_loss: 0.4010 - val_acc: 0.9184\n",
      "Epoch 44/100\n",
      "189/189 [==============================] - 0s 164us/step - loss: 0.3935 - acc: 0.8624 - val_loss: 0.3932 - val_acc: 0.9184\n",
      "Epoch 45/100\n",
      "189/189 [==============================] - 0s 142us/step - loss: 0.3872 - acc: 0.8571 - val_loss: 0.3857 - val_acc: 0.9184\n",
      "Epoch 46/100\n",
      "189/189 [==============================] - 0s 116us/step - loss: 0.3799 - acc: 0.8624 - val_loss: 0.3788 - val_acc: 0.9184\n",
      "Epoch 47/100\n",
      "189/189 [==============================] - 0s 100us/step - loss: 0.3727 - acc: 0.8624 - val_loss: 0.3727 - val_acc: 0.8980\n",
      "Epoch 48/100\n",
      "189/189 [==============================] - 0s 95us/step - loss: 0.3681 - acc: 0.8624 - val_loss: 0.3668 - val_acc: 0.8980\n",
      "Epoch 49/100\n",
      "189/189 [==============================] - 0s 142us/step - loss: 0.3612 - acc: 0.8624 - val_loss: 0.3621 - val_acc: 0.8776\n",
      "Epoch 50/100\n",
      "189/189 [==============================] - 0s 106us/step - loss: 0.3547 - acc: 0.8571 - val_loss: 0.3585 - val_acc: 0.8776\n",
      "Epoch 51/100\n",
      "189/189 [==============================] - 0s 95us/step - loss: 0.3493 - acc: 0.8571 - val_loss: 0.3553 - val_acc: 0.8776\n",
      "Epoch 52/100\n",
      "189/189 [==============================] - 0s 95us/step - loss: 0.3438 - acc: 0.8624 - val_loss: 0.3535 - val_acc: 0.8776\n",
      "Epoch 53/100\n",
      "189/189 [==============================] - 0s 100us/step - loss: 0.3390 - acc: 0.8624 - val_loss: 0.3535 - val_acc: 0.8776\n",
      "Epoch 54/100\n",
      "189/189 [==============================] - 0s 142us/step - loss: 0.3344 - acc: 0.8677 - val_loss: 0.3533 - val_acc: 0.8776\n",
      "Epoch 55/100\n"
     ]
    },
    {
     "name": "stdout",
     "output_type": "stream",
     "text": [
      "189/189 [==============================] - 0s 95us/step - loss: 0.3297 - acc: 0.8730 - val_loss: 0.3555 - val_acc: 0.8776\n",
      "Epoch 56/100\n",
      "189/189 [==============================] - 0s 84us/step - loss: 0.3257 - acc: 0.8677 - val_loss: 0.3582 - val_acc: 0.8776\n",
      "Epoch 57/100\n",
      "189/189 [==============================] - 0s 95us/step - loss: 0.3236 - acc: 0.8677 - val_loss: 0.3628 - val_acc: 0.8776\n",
      "Epoch 58/100\n",
      "189/189 [==============================] - 0s 90us/step - loss: 0.3206 - acc: 0.8836 - val_loss: 0.3671 - val_acc: 0.8571\n",
      "Epoch 59/100\n",
      "189/189 [==============================] - 0s 95us/step - loss: 0.3174 - acc: 0.8836 - val_loss: 0.3694 - val_acc: 0.8571\n",
      "Epoch 60/100\n",
      "189/189 [==============================] - 0s 127us/step - loss: 0.3158 - acc: 0.8836 - val_loss: 0.3722 - val_acc: 0.8571\n",
      "Epoch 61/100\n",
      "189/189 [==============================] - 0s 169us/step - loss: 0.3139 - acc: 0.8836 - val_loss: 0.3742 - val_acc: 0.8571\n",
      "Epoch 62/100\n",
      "189/189 [==============================] - 0s 132us/step - loss: 0.3128 - acc: 0.8783 - val_loss: 0.3755 - val_acc: 0.8367\n",
      "Epoch 63/100\n",
      "189/189 [==============================] - 0s 153us/step - loss: 0.3122 - acc: 0.8783 - val_loss: 0.3800 - val_acc: 0.8367\n",
      "Epoch 64/100\n",
      "189/189 [==============================] - 0s 153us/step - loss: 0.3101 - acc: 0.8836 - val_loss: 0.3811 - val_acc: 0.8367\n",
      "Epoch 65/100\n",
      "189/189 [==============================] - 0s 100us/step - loss: 0.3094 - acc: 0.8836 - val_loss: 0.3807 - val_acc: 0.8367\n",
      "Epoch 66/100\n",
      "189/189 [==============================] - 0s 142us/step - loss: 0.3083 - acc: 0.8836 - val_loss: 0.3832 - val_acc: 0.8571\n",
      "Epoch 67/100\n",
      "189/189 [==============================] - 0s 111us/step - loss: 0.3069 - acc: 0.8836 - val_loss: 0.3831 - val_acc: 0.8571\n",
      "Epoch 68/100\n",
      "189/189 [==============================] - 0s 153us/step - loss: 0.3058 - acc: 0.8783 - val_loss: 0.3830 - val_acc: 0.8571\n",
      "Epoch 69/100\n",
      "189/189 [==============================] - 0s 127us/step - loss: 0.3054 - acc: 0.8783 - val_loss: 0.3847 - val_acc: 0.8571\n",
      "Epoch 70/100\n",
      "189/189 [==============================] - 0s 127us/step - loss: 0.3043 - acc: 0.8783 - val_loss: 0.3840 - val_acc: 0.8571\n",
      "Epoch 71/100\n",
      "189/189 [==============================] - 0s 100us/step - loss: 0.3043 - acc: 0.8836 - val_loss: 0.3831 - val_acc: 0.8571\n",
      "Epoch 72/100\n",
      "189/189 [==============================] - 0s 148us/step - loss: 0.3027 - acc: 0.8836 - val_loss: 0.3841 - val_acc: 0.8571\n",
      "Epoch 73/100\n",
      "189/189 [==============================] - 0s 116us/step - loss: 0.3014 - acc: 0.8836 - val_loss: 0.3837 - val_acc: 0.8571\n",
      "Epoch 74/100\n",
      "189/189 [==============================] - 0s 153us/step - loss: 0.3009 - acc: 0.8836 - val_loss: 0.3839 - val_acc: 0.8571\n",
      "Epoch 75/100\n",
      "189/189 [==============================] - 0s 137us/step - loss: 0.2997 - acc: 0.8836 - val_loss: 0.3843 - val_acc: 0.8571\n",
      "Epoch 76/100\n",
      "189/189 [==============================] - 0s 111us/step - loss: 0.2988 - acc: 0.8836 - val_loss: 0.3845 - val_acc: 0.8571\n",
      "Epoch 77/100\n",
      "189/189 [==============================] - 0s 111us/step - loss: 0.2986 - acc: 0.8836 - val_loss: 0.3863 - val_acc: 0.8571\n",
      "Epoch 78/100\n",
      "189/189 [==============================] - 0s 106us/step - loss: 0.2979 - acc: 0.8836 - val_loss: 0.3861 - val_acc: 0.8571\n",
      "Epoch 79/100\n",
      "189/189 [==============================] - 0s 106us/step - loss: 0.2974 - acc: 0.8836 - val_loss: 0.3866 - val_acc: 0.8571\n",
      "Epoch 80/100\n",
      "189/189 [==============================] - 0s 121us/step - loss: 0.2972 - acc: 0.8836 - val_loss: 0.3855 - val_acc: 0.8571\n",
      "Epoch 81/100\n",
      "189/189 [==============================] - 0s 127us/step - loss: 0.2955 - acc: 0.8889 - val_loss: 0.3859 - val_acc: 0.8571\n",
      "Epoch 82/100\n",
      "189/189 [==============================] - 0s 100us/step - loss: 0.2952 - acc: 0.8836 - val_loss: 0.3865 - val_acc: 0.8571\n",
      "Epoch 83/100\n",
      "189/189 [==============================] - 0s 132us/step - loss: 0.2943 - acc: 0.8836 - val_loss: 0.3875 - val_acc: 0.8571\n",
      "Epoch 84/100\n",
      "189/189 [==============================] - 0s 106us/step - loss: 0.2934 - acc: 0.8836 - val_loss: 0.3872 - val_acc: 0.8571\n",
      "Epoch 85/100\n",
      "189/189 [==============================] - 0s 121us/step - loss: 0.2929 - acc: 0.8889 - val_loss: 0.3874 - val_acc: 0.8571\n",
      "Epoch 86/100\n",
      "189/189 [==============================] - 0s 137us/step - loss: 0.2925 - acc: 0.8889 - val_loss: 0.3872 - val_acc: 0.8571\n",
      "Epoch 87/100\n",
      "189/189 [==============================] - 0s 121us/step - loss: 0.2915 - acc: 0.8889 - val_loss: 0.3868 - val_acc: 0.8571\n",
      "Epoch 88/100\n",
      "189/189 [==============================] - 0s 95us/step - loss: 0.2909 - acc: 0.8889 - val_loss: 0.3868 - val_acc: 0.8571\n",
      "Epoch 89/100\n",
      "189/189 [==============================] - 0s 169us/step - loss: 0.2909 - acc: 0.8942 - val_loss: 0.3887 - val_acc: 0.8571\n",
      "Epoch 90/100\n",
      "189/189 [==============================] - 0s 164us/step - loss: 0.2898 - acc: 0.8942 - val_loss: 0.3890 - val_acc: 0.8571\n",
      "Epoch 91/100\n",
      "189/189 [==============================] - 0s 127us/step - loss: 0.2888 - acc: 0.8942 - val_loss: 0.3894 - val_acc: 0.8571\n",
      "Epoch 92/100\n",
      "189/189 [==============================] - 0s 137us/step - loss: 0.2881 - acc: 0.8942 - val_loss: 0.3889 - val_acc: 0.8571\n",
      "Epoch 93/100\n",
      "189/189 [==============================] - 0s 164us/step - loss: 0.2878 - acc: 0.8942 - val_loss: 0.3879 - val_acc: 0.8571\n",
      "Epoch 94/100\n",
      "189/189 [==============================] - 0s 148us/step - loss: 0.2870 - acc: 0.8942 - val_loss: 0.3887 - val_acc: 0.8571\n",
      "Epoch 95/100\n",
      "189/189 [==============================] - 0s 121us/step - loss: 0.2859 - acc: 0.8942 - val_loss: 0.3888 - val_acc: 0.8571\n",
      "Epoch 96/100\n",
      "189/189 [==============================] - 0s 164us/step - loss: 0.2853 - acc: 0.8995 - val_loss: 0.3887 - val_acc: 0.8571\n",
      "Epoch 97/100\n",
      "189/189 [==============================] - 0s 132us/step - loss: 0.2849 - acc: 0.8995 - val_loss: 0.3886 - val_acc: 0.8571\n",
      "Epoch 98/100\n",
      "189/189 [==============================] - 0s 95us/step - loss: 0.2842 - acc: 0.9048 - val_loss: 0.3896 - val_acc: 0.8367\n",
      "Epoch 99/100\n",
      "189/189 [==============================] - 0s 127us/step - loss: 0.2837 - acc: 0.9101 - val_loss: 0.3893 - val_acc: 0.8367\n",
      "Epoch 100/100\n",
      "189/189 [==============================] - 0s 116us/step - loss: 0.2830 - acc: 0.9048 - val_loss: 0.3911 - val_acc: 0.8367\n"
     ]
    }
   ],
   "source": [
    "# create the model RNN\n",
    "model2 = Sequential()\n",
    "model2.add(Embedding(len(vocab), 10, input_length=(len(X_train[0]))))\n",
    "model2.add(GRU(10, activation='tanh'))\n",
    "model2.add(Dense(1, activation='sigmoid'))\n",
    "model2.compile(loss='binary_crossentropy', optimizer='adam', metrics=['accuracy'])\n",
    "print(model2.summary())\n",
    "\n",
    "# Train\n",
    "f = model2.fit(X_train, y_train, validation_data=(X_val, y_val), epochs=100, batch_size=64)"
   ]
  },
  {
   "cell_type": "code",
   "execution_count": 265,
   "metadata": {},
   "outputs": [
    {
     "name": "stdout",
     "output_type": "stream",
     "text": [
      "Accuracy: 87.50%\n",
      "Log loss: 0.2360730767250061\n"
     ]
    }
   ],
   "source": [
    "loss2, score2 = model2.evaluate(X_test, y_test, verbose=0)\n",
    "print('Accuracy: %.2f%%' % (score2*100))\n",
    "print('Log loss:', loss2)"
   ]
  },
  {
   "cell_type": "code",
   "execution_count": 266,
   "metadata": {},
   "outputs": [
    {
     "data": {
      "text/plain": [
       "0.97165991902834"
      ]
     },
     "execution_count": 266,
     "metadata": {},
     "output_type": "execute_result"
    }
   ],
   "source": [
    "from sklearn.metrics import roc_auc_score\n",
    "\n",
    "y_pred = model2.predict(X_test)\n",
    "roc_auc_score(y_test, y_pred)"
   ]
  },
  {
   "cell_type": "code",
   "execution_count": null,
   "metadata": {},
   "outputs": [],
   "source": []
  },
  {
   "cell_type": "markdown",
   "metadata": {},
   "source": [
    "# PLOTTING HISTORY"
   ]
  },
  {
   "cell_type": "code",
   "execution_count": 267,
   "metadata": {},
   "outputs": [],
   "source": [
    "import matplotlib.pyplot as plt\n",
    "plt.style.use('ggplot')\n",
    "\n",
    "def plot_history(history):\n",
    "    acc = history.history['acc']\n",
    "    val_acc = history.history['val_acc']\n",
    "    loss = history.history['loss']\n",
    "    val_loss = history.history['val_loss']\n",
    "    x = range(1, len(acc) + 1)\n",
    "\n",
    "    plt.figure(figsize=(12, 5))\n",
    "    plt.subplot(1, 2, 1)\n",
    "    plt.plot(x, acc, 'b', label='Training acc')\n",
    "    plt.plot(x, val_acc, 'r', label='Validation acc')\n",
    "    plt.title('Training and validation accuracy')\n",
    "    plt.legend()\n",
    "    plt.subplot(1, 2, 2)\n",
    "    plt.plot(x, loss, 'b', label='Training loss')\n",
    "    plt.plot(x, val_loss, 'r', label='Validation loss')\n",
    "    plt.title('Training and validation loss')\n",
    "    plt.legend()"
   ]
  },
  {
   "cell_type": "code",
   "execution_count": 269,
   "metadata": {},
   "outputs": [
    {
     "data": {
      "image/png": "[encoded data removed]",
      "text/plain": [
       "<Figure size 864x360 with 2 Axes>"
      ]
     },
     "metadata": {},
     "output_type": "display_data"
    }
   ],
   "source": [
    "plot_history(h)"
   ]
  },
  {
   "cell_type": "code",
   "execution_count": 268,
   "metadata": {},
   "outputs": [
    {
     "data": {
      "image/png": "[encoded data removed]",
      "text/plain": [
       "<Figure size 864x360 with 2 Axes>"
      ]
     },
     "metadata": {},
     "output_type": "display_data"
    }
   ],
   "source": [
    "plot_history(f)"
   ]
  },
  {
   "cell_type": "code",
   "execution_count": null,
   "metadata": {},
   "outputs": [],
   "source": []
  }
 ],
 "metadata": {
  "kernelspec": {
   "display_name": "Python 3",
   "language": "python",
   "name": "python3"
  },
  "language_info": {
   "codemirror_mode": {
    "name": "ipython",
    "version": 3
   },
   "file_extension": ".py",
   "mimetype": "text/x-python",
   "name": "python",
   "nbconvert_exporter": "python",
   "pygments_lexer": "ipython3",
   "version": "3.6.8"
  }
 },
 "nbformat": 4,
 "nbformat_minor": 2
}
