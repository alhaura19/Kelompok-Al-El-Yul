{
 "cells": [
  {
   "cell_type": "code",
   "execution_count": 287,
   "metadata": {},
   "outputs": [],
   "source": [
    "import csv\n",
    "import pandas as pd\n",
    "import numpy as np\n",
    "from sklearn.preprocessing import LabelEncoder"
   ]
  },
  {
   "cell_type": "markdown",
   "metadata": {},
   "source": [
    "# DATA DESCRIPTION"
   ]
  },
  {
   "cell_type": "code",
   "execution_count": 288,
   "metadata": {},
   "outputs": [
    {
     "data": {
      "text/html": [
       "<div>\n",
       "<style scoped>\n",
       "    .dataframe tbody tr th:only-of-type {\n",
       "        vertical-align: middle;\n",
       "    }\n",
       "\n",
       "    .dataframe tbody tr th {\n",
       "        vertical-align: top;\n",
       "    }\n",
       "\n",
       "    .dataframe thead th {\n",
       "        text-align: right;\n",
       "    }\n",
       "</style>\n",
       "<table border=\"1\" class=\"dataframe\">\n",
       "  <thead>\n",
       "    <tr style=\"text-align: right;\">\n",
       "      <th></th>\n",
       "      <th>Name</th>\n",
       "      <th>Description</th>\n",
       "    </tr>\n",
       "  </thead>\n",
       "  <tbody>\n",
       "    <tr>\n",
       "      <th>0</th>\n",
       "      <td>age</td>\n",
       "      <td>age in years</td>\n",
       "    </tr>\n",
       "    <tr>\n",
       "      <th>1</th>\n",
       "      <td>sex</td>\n",
       "      <td>sex (1 = male; 0 = female)</td>\n",
       "    </tr>\n",
       "    <tr>\n",
       "      <th>2</th>\n",
       "      <td>cp</td>\n",
       "      <td>chest pain type; Value 1: typical angina Value...</td>\n",
       "    </tr>\n",
       "    <tr>\n",
       "      <th>3</th>\n",
       "      <td>trestbps</td>\n",
       "      <td>resting blood pressure (in mm Hg on admission ...</td>\n",
       "    </tr>\n",
       "    <tr>\n",
       "      <th>4</th>\n",
       "      <td>chol</td>\n",
       "      <td>serum cholestoral in mg/dl</td>\n",
       "    </tr>\n",
       "    <tr>\n",
       "      <th>5</th>\n",
       "      <td>fbs</td>\n",
       "      <td>fasting blood sugar &gt; 120 mg/dl (1 = true; 0 =...</td>\n",
       "    </tr>\n",
       "    <tr>\n",
       "      <th>6</th>\n",
       "      <td>restecg</td>\n",
       "      <td>resting electrocardiographic results; Value 0:...</td>\n",
       "    </tr>\n",
       "    <tr>\n",
       "      <th>7</th>\n",
       "      <td>thalach</td>\n",
       "      <td>maximum heart rate achieved</td>\n",
       "    </tr>\n",
       "    <tr>\n",
       "      <th>8</th>\n",
       "      <td>exang</td>\n",
       "      <td>exercise induced angina (1 = yes; 0 = no)</td>\n",
       "    </tr>\n",
       "    <tr>\n",
       "      <th>9</th>\n",
       "      <td>oldpeak</td>\n",
       "      <td>ST depression induced by exercise relative to ...</td>\n",
       "    </tr>\n",
       "    <tr>\n",
       "      <th>10</th>\n",
       "      <td>slope</td>\n",
       "      <td>the slope of the peak exercise ST segment; Val...</td>\n",
       "    </tr>\n",
       "    <tr>\n",
       "      <th>11</th>\n",
       "      <td>ca</td>\n",
       "      <td>number of major vessels (0-3) colored by flour...</td>\n",
       "    </tr>\n",
       "    <tr>\n",
       "      <th>12</th>\n",
       "      <td>thal</td>\n",
       "      <td>3 = normal; 6 = fixed defect; 7 = reversable d...</td>\n",
       "    </tr>\n",
       "    <tr>\n",
       "      <th>13</th>\n",
       "      <td>target</td>\n",
       "      <td>Absence (1) or presence (2) of heart disease</td>\n",
       "    </tr>\n",
       "  </tbody>\n",
       "</table>\n",
       "</div>"
      ],
      "text/plain": [
       "        Name                                        Description\n",
       "0        age                                      age in years \n",
       "1        sex                         sex (1 = male; 0 = female)\n",
       "2         cp  chest pain type; Value 1: typical angina Value...\n",
       "3   trestbps  resting blood pressure (in mm Hg on admission ...\n",
       "4       chol                         serum cholestoral in mg/dl\n",
       "5        fbs  fasting blood sugar > 120 mg/dl (1 = true; 0 =...\n",
       "6    restecg  resting electrocardiographic results; Value 0:...\n",
       "7    thalach                        maximum heart rate achieved\n",
       "8      exang          exercise induced angina (1 = yes; 0 = no)\n",
       "9    oldpeak  ST depression induced by exercise relative to ...\n",
       "10     slope  the slope of the peak exercise ST segment; Val...\n",
       "11        ca  number of major vessels (0-3) colored by flour...\n",
       "12      thal  3 = normal; 6 = fixed defect; 7 = reversable d...\n",
       "13    target       Absence (1) or presence (2) of heart disease"
      ]
     },
     "execution_count": 288,
     "metadata": {},
     "output_type": "execute_result"
    }
   ],
   "source": [
    "data_description = pd.read_csv('data_information.csv', names=['Name', 'Description'])\n",
    "data_description"
   ]
  },
  {
   "cell_type": "markdown",
   "metadata": {},
   "source": [
    "# RAW DATA"
   ]
  },
  {
   "cell_type": "code",
   "execution_count": 289,
   "metadata": {},
   "outputs": [
    {
     "data": {
      "text/html": [
       "<div>\n",
       "<style scoped>\n",
       "    .dataframe tbody tr th:only-of-type {\n",
       "        vertical-align: middle;\n",
       "    }\n",
       "\n",
       "    .dataframe tbody tr th {\n",
       "        vertical-align: top;\n",
       "    }\n",
       "\n",
       "    .dataframe thead th {\n",
       "        text-align: right;\n",
       "    }\n",
       "</style>\n",
       "<table border=\"1\" class=\"dataframe\">\n",
       "  <thead>\n",
       "    <tr style=\"text-align: right;\">\n",
       "      <th></th>\n",
       "      <th>age</th>\n",
       "      <th>sex</th>\n",
       "      <th>cp</th>\n",
       "      <th>trestbps</th>\n",
       "      <th>chol</th>\n",
       "      <th>fbs</th>\n",
       "      <th>restecg</th>\n",
       "      <th>thalach</th>\n",
       "      <th>exang</th>\n",
       "      <th>oldpeak</th>\n",
       "      <th>slope</th>\n",
       "      <th>ca</th>\n",
       "      <th>thal</th>\n",
       "      <th>target</th>\n",
       "    </tr>\n",
       "  </thead>\n",
       "  <tbody>\n",
       "    <tr>\n",
       "      <th>0</th>\n",
       "      <td>70.0</td>\n",
       "      <td>1.0</td>\n",
       "      <td>4.0</td>\n",
       "      <td>130.0</td>\n",
       "      <td>322.0</td>\n",
       "      <td>0.0</td>\n",
       "      <td>2.0</td>\n",
       "      <td>109.0</td>\n",
       "      <td>0.0</td>\n",
       "      <td>2.4</td>\n",
       "      <td>2.0</td>\n",
       "      <td>3.0</td>\n",
       "      <td>3.0</td>\n",
       "      <td>2.0</td>\n",
       "    </tr>\n",
       "    <tr>\n",
       "      <th>1</th>\n",
       "      <td>67.0</td>\n",
       "      <td>0.0</td>\n",
       "      <td>3.0</td>\n",
       "      <td>115.0</td>\n",
       "      <td>564.0</td>\n",
       "      <td>0.0</td>\n",
       "      <td>2.0</td>\n",
       "      <td>160.0</td>\n",
       "      <td>0.0</td>\n",
       "      <td>1.6</td>\n",
       "      <td>2.0</td>\n",
       "      <td>0.0</td>\n",
       "      <td>7.0</td>\n",
       "      <td>1.0</td>\n",
       "    </tr>\n",
       "    <tr>\n",
       "      <th>2</th>\n",
       "      <td>57.0</td>\n",
       "      <td>1.0</td>\n",
       "      <td>2.0</td>\n",
       "      <td>124.0</td>\n",
       "      <td>261.0</td>\n",
       "      <td>0.0</td>\n",
       "      <td>0.0</td>\n",
       "      <td>141.0</td>\n",
       "      <td>0.0</td>\n",
       "      <td>0.3</td>\n",
       "      <td>1.0</td>\n",
       "      <td>0.0</td>\n",
       "      <td>7.0</td>\n",
       "      <td>2.0</td>\n",
       "    </tr>\n",
       "    <tr>\n",
       "      <th>3</th>\n",
       "      <td>64.0</td>\n",
       "      <td>1.0</td>\n",
       "      <td>4.0</td>\n",
       "      <td>128.0</td>\n",
       "      <td>263.0</td>\n",
       "      <td>0.0</td>\n",
       "      <td>0.0</td>\n",
       "      <td>105.0</td>\n",
       "      <td>1.0</td>\n",
       "      <td>0.2</td>\n",
       "      <td>2.0</td>\n",
       "      <td>1.0</td>\n",
       "      <td>7.0</td>\n",
       "      <td>1.0</td>\n",
       "    </tr>\n",
       "    <tr>\n",
       "      <th>4</th>\n",
       "      <td>74.0</td>\n",
       "      <td>0.0</td>\n",
       "      <td>2.0</td>\n",
       "      <td>120.0</td>\n",
       "      <td>269.0</td>\n",
       "      <td>0.0</td>\n",
       "      <td>2.0</td>\n",
       "      <td>121.0</td>\n",
       "      <td>1.0</td>\n",
       "      <td>0.2</td>\n",
       "      <td>1.0</td>\n",
       "      <td>1.0</td>\n",
       "      <td>3.0</td>\n",
       "      <td>1.0</td>\n",
       "    </tr>\n",
       "  </tbody>\n",
       "</table>\n",
       "</div>"
      ],
      "text/plain": [
       "    age  sex   cp  trestbps   chol  fbs  restecg  thalach  exang  oldpeak  \\\n",
       "0  70.0  1.0  4.0     130.0  322.0  0.0      2.0    109.0    0.0      2.4   \n",
       "1  67.0  0.0  3.0     115.0  564.0  0.0      2.0    160.0    0.0      1.6   \n",
       "2  57.0  1.0  2.0     124.0  261.0  0.0      0.0    141.0    0.0      0.3   \n",
       "3  64.0  1.0  4.0     128.0  263.0  0.0      0.0    105.0    1.0      0.2   \n",
       "4  74.0  0.0  2.0     120.0  269.0  0.0      2.0    121.0    1.0      0.2   \n",
       "\n",
       "   slope   ca  thal  target  \n",
       "0    2.0  3.0   3.0     2.0  \n",
       "1    2.0  0.0   7.0     1.0  \n",
       "2    1.0  0.0   7.0     2.0  \n",
       "3    2.0  1.0   7.0     1.0  \n",
       "4    1.0  1.0   3.0     1.0  "
      ]
     },
     "execution_count": 289,
     "metadata": {},
     "output_type": "execute_result"
    }
   ],
   "source": [
    "raw = np.loadtxt( 'heart.dat' )\n",
    "\n",
    "data = pd.DataFrame(raw)\n",
    "data.columns = data_description['Name'].values\n",
    "data.head(5)"
   ]
  },
  {
   "cell_type": "markdown",
   "metadata": {},
   "source": [
    "# CATEGORICAL DATA"
   ]
  },
  {
   "cell_type": "code",
   "execution_count": 290,
   "metadata": {},
   "outputs": [
    {
     "data": {
      "text/html": [
       "<div>\n",
       "<style scoped>\n",
       "    .dataframe tbody tr th:only-of-type {\n",
       "        vertical-align: middle;\n",
       "    }\n",
       "\n",
       "    .dataframe tbody tr th {\n",
       "        vertical-align: top;\n",
       "    }\n",
       "\n",
       "    .dataframe thead th {\n",
       "        text-align: right;\n",
       "    }\n",
       "</style>\n",
       "<table border=\"1\" class=\"dataframe\">\n",
       "  <thead>\n",
       "    <tr style=\"text-align: right;\">\n",
       "      <th></th>\n",
       "      <th>age</th>\n",
       "      <th>sex</th>\n",
       "      <th>cp</th>\n",
       "      <th>trestbps</th>\n",
       "      <th>chol</th>\n",
       "      <th>fbs</th>\n",
       "      <th>restecg</th>\n",
       "      <th>thalach</th>\n",
       "      <th>exang</th>\n",
       "      <th>oldpeak</th>\n",
       "      <th>slope</th>\n",
       "      <th>ca</th>\n",
       "      <th>thal</th>\n",
       "      <th>target</th>\n",
       "    </tr>\n",
       "  </thead>\n",
       "  <tbody>\n",
       "    <tr>\n",
       "      <th>0</th>\n",
       "      <td>a4</td>\n",
       "      <td>female</td>\n",
       "      <td>cp4</td>\n",
       "      <td>rb2</td>\n",
       "      <td>sc2</td>\n",
       "      <td>fbs0</td>\n",
       "      <td>hyper</td>\n",
       "      <td>mh2</td>\n",
       "      <td>ang0</td>\n",
       "      <td>op2</td>\n",
       "      <td>flat</td>\n",
       "      <td>nmv3</td>\n",
       "      <td>normal</td>\n",
       "      <td>presence</td>\n",
       "    </tr>\n",
       "    <tr>\n",
       "      <th>1</th>\n",
       "      <td>a4</td>\n",
       "      <td>male</td>\n",
       "      <td>cp3</td>\n",
       "      <td>rb0</td>\n",
       "      <td>sc2</td>\n",
       "      <td>fbs0</td>\n",
       "      <td>hyper</td>\n",
       "      <td>mh2</td>\n",
       "      <td>ang0</td>\n",
       "      <td>op1</td>\n",
       "      <td>flat</td>\n",
       "      <td>nmv0</td>\n",
       "      <td>reversible</td>\n",
       "      <td>absence</td>\n",
       "    </tr>\n",
       "    <tr>\n",
       "      <th>2</th>\n",
       "      <td>a3</td>\n",
       "      <td>female</td>\n",
       "      <td>cp2</td>\n",
       "      <td>rb1</td>\n",
       "      <td>sc2</td>\n",
       "      <td>fbs0</td>\n",
       "      <td>norm</td>\n",
       "      <td>mh2</td>\n",
       "      <td>ang0</td>\n",
       "      <td>op0</td>\n",
       "      <td>up</td>\n",
       "      <td>nmv0</td>\n",
       "      <td>reversible</td>\n",
       "      <td>presence</td>\n",
       "    </tr>\n",
       "    <tr>\n",
       "      <th>3</th>\n",
       "      <td>a3</td>\n",
       "      <td>female</td>\n",
       "      <td>cp4</td>\n",
       "      <td>rb1</td>\n",
       "      <td>sc2</td>\n",
       "      <td>fbs0</td>\n",
       "      <td>norm</td>\n",
       "      <td>mh1</td>\n",
       "      <td>ang1</td>\n",
       "      <td>op0</td>\n",
       "      <td>flat</td>\n",
       "      <td>nmv1</td>\n",
       "      <td>reversible</td>\n",
       "      <td>absence</td>\n",
       "    </tr>\n",
       "    <tr>\n",
       "      <th>4</th>\n",
       "      <td>a4</td>\n",
       "      <td>male</td>\n",
       "      <td>cp2</td>\n",
       "      <td>rb1</td>\n",
       "      <td>sc2</td>\n",
       "      <td>fbs0</td>\n",
       "      <td>hyper</td>\n",
       "      <td>mh2</td>\n",
       "      <td>ang1</td>\n",
       "      <td>op0</td>\n",
       "      <td>up</td>\n",
       "      <td>nmv1</td>\n",
       "      <td>normal</td>\n",
       "      <td>absence</td>\n",
       "    </tr>\n",
       "  </tbody>\n",
       "</table>\n",
       "</div>"
      ],
      "text/plain": [
       "  age     sex   cp trestbps chol   fbs restecg thalach exang oldpeak slope  \\\n",
       "0  a4  female  cp4      rb2  sc2  fbs0   hyper     mh2  ang0     op2  flat   \n",
       "1  a4    male  cp3      rb0  sc2  fbs0   hyper     mh2  ang0     op1  flat   \n",
       "2  a3  female  cp2      rb1  sc2  fbs0    norm     mh2  ang0     op0    up   \n",
       "3  a3  female  cp4      rb1  sc2  fbs0    norm     mh1  ang1     op0  flat   \n",
       "4  a4    male  cp2      rb1  sc2  fbs0   hyper     mh2  ang1     op0    up   \n",
       "\n",
       "     ca        thal    target  \n",
       "0  nmv3      normal  presence  \n",
       "1  nmv0  reversible   absence  \n",
       "2  nmv0  reversible  presence  \n",
       "3  nmv1  reversible   absence  \n",
       "4  nmv1      normal   absence  "
      ]
     },
     "execution_count": 290,
     "metadata": {},
     "output_type": "execute_result"
    }
   ],
   "source": [
    "datacat = pd.read_csv('heartcat.dat', header=None)\n",
    "datacat.columns = data_description['Name'].values\n",
    "datacat.head(5)"
   ]
  },
  {
   "cell_type": "markdown",
   "metadata": {},
   "source": [
    "# VOCAB"
   ]
  },
  {
   "cell_type": "code",
   "execution_count": 291,
   "metadata": {},
   "outputs": [
    {
     "data": {
      "text/plain": [
       "['a0',\n",
       " 'a1',\n",
       " 'a2',\n",
       " 'a3',\n",
       " 'a4',\n",
       " 'male',\n",
       " 'female',\n",
       " 'cp1',\n",
       " 'cp2',\n",
       " 'cp3',\n",
       " 'cp4',\n",
       " 'rb0',\n",
       " 'rb1',\n",
       " 'rb2',\n",
       " 'rb3',\n",
       " 'rb4',\n",
       " 'sc0',\n",
       " 'sc1',\n",
       " 'sc2',\n",
       " 'fbs0',\n",
       " 'fbs1',\n",
       " 'norm',\n",
       " 'abnormal',\n",
       " 'hyper',\n",
       " 'mh0',\n",
       " 'mh1',\n",
       " 'mh2',\n",
       " 'mh3',\n",
       " 'mh4',\n",
       " 'mh5',\n",
       " 'ang0',\n",
       " 'ang1',\n",
       " 'op0',\n",
       " 'op1',\n",
       " 'op2',\n",
       " 'op3',\n",
       " 'op4',\n",
       " 'op5',\n",
       " 'op6',\n",
       " 'up',\n",
       " 'flat',\n",
       " 'down',\n",
       " 'nmv0',\n",
       " 'nmv1',\n",
       " 'nmv2',\n",
       " 'nmv3',\n",
       " 'normal',\n",
       " 'fixed',\n",
       " 'reversible']"
      ]
     },
     "execution_count": 291,
     "metadata": {},
     "output_type": "execute_result"
    }
   ],
   "source": [
    "with open('heartvocab.csv', 'r') as csvFile:\n",
    "    reader = csv.reader(csvFile)\n",
    "    for row in reader:\n",
    "        vocab = row\n",
    "\n",
    "vocab"
   ]
  },
  {
   "cell_type": "markdown",
   "metadata": {},
   "source": [
    "# WORD INDEX"
   ]
  },
  {
   "cell_type": "code",
   "execution_count": 292,
   "metadata": {},
   "outputs": [
    {
     "data": {
      "text/plain": [
       "dict_items([('a0', 0), ('a1', 1), ('a2', 2), ('a3', 3), ('a4', 4), ('male', 5), ('female', 6), ('cp1', 7), ('cp2', 8), ('cp3', 9), ('cp4', 10), ('rb0', 11), ('rb1', 12), ('rb2', 13), ('rb3', 14), ('rb4', 15), ('sc0', 16), ('sc1', 17), ('sc2', 18), ('fbs0', 19), ('fbs1', 20), ('norm', 21), ('abnormal', 22), ('hyper', 23), ('mh0', 24), ('mh1', 25), ('mh2', 26), ('mh3', 27), ('mh4', 28), ('mh5', 29), ('ang0', 30), ('ang1', 31), ('op0', 32), ('op1', 33), ('op2', 34), ('op3', 35), ('op4', 36), ('op5', 37), ('op6', 38), ('up', 39), ('flat', 40), ('down', 41), ('nmv0', 42), ('nmv1', 43), ('nmv2', 44), ('nmv3', 45), ('normal', 46), ('fixed', 47), ('reversible', 48)])"
      ]
     },
     "execution_count": 292,
     "metadata": {},
     "output_type": "execute_result"
    }
   ],
   "source": [
    "# word_index is a dictionary/ vocabulary mapping words to an integer index\n",
    "word_index = {}\n",
    "for w in range(len(vocab)):\n",
    "    word_index[vocab[w]] = {}\n",
    "    word_index[vocab[w]] = (vocab.index(vocab[w]))\n",
    "\n",
    "word_index.items()"
   ]
  },
  {
   "cell_type": "markdown",
   "metadata": {},
   "source": [
    "# SPLIT DATA TO X (FEATURES) AND Y (TARGET)"
   ]
  },
  {
   "cell_type": "code",
   "execution_count": 293,
   "metadata": {},
   "outputs": [
    {
     "data": {
      "text/plain": [
       "array([['a4', 'female', 'cp4', ..., 'flat', 'nmv3', 'normal'],\n",
       "       ['a4', 'male', 'cp3', ..., 'flat', 'nmv0', 'reversible'],\n",
       "       ['a3', 'female', 'cp2', ..., 'up', 'nmv0', 'reversible'],\n",
       "       ...,\n",
       "       ['a3', 'male', 'cp2', ..., 'flat', 'nmv0', 'normal'],\n",
       "       ['a3', 'female', 'cp4', ..., 'flat', 'nmv0', 'fixed'],\n",
       "       ['a4', 'female', 'cp4', ..., 'flat', 'nmv3', 'normal']],\n",
       "      dtype=object)"
      ]
     },
     "execution_count": 293,
     "metadata": {},
     "output_type": "execute_result"
    }
   ],
   "source": [
    "X = datacat.iloc[:,0:13].values\n",
    "X"
   ]
  },
  {
   "cell_type": "code",
   "execution_count": 294,
   "metadata": {},
   "outputs": [
    {
     "data": {
      "text/plain": [
       "array([2., 1., 2., 1., 1.])"
      ]
     },
     "execution_count": 294,
     "metadata": {},
     "output_type": "execute_result"
    }
   ],
   "source": [
    "y = data['target'].values\n",
    "y[:5]"
   ]
  },
  {
   "cell_type": "markdown",
   "metadata": {},
   "source": [
    "# ENCODE DATA"
   ]
  },
  {
   "cell_type": "code",
   "execution_count": 295,
   "metadata": {},
   "outputs": [
    {
     "data": {
      "text/plain": [
       "[[4, 6, 10, 13, 18, 19, 23, 26, 30, 34, 40, 45, 46],\n",
       " [4, 5, 9, 11, 18, 19, 23, 26, 30, 33, 40, 42, 48],\n",
       " [3, 6, 8, 12, 18, 19, 21, 26, 30, 32, 39, 42, 48],\n",
       " [3, 6, 10, 12, 18, 19, 21, 25, 31, 32, 40, 43, 48],\n",
       " [4, 5, 8, 12, 18, 19, 23, 26, 31, 32, 39, 43, 46]]"
      ]
     },
     "execution_count": 295,
     "metadata": {},
     "output_type": "execute_result"
    }
   ],
   "source": [
    "# one hot all docs depend on vocab\n",
    "X_hot = []\n",
    "for t in range(len(X)):\n",
    "    hot = [word_index.get(i, '') for i in X[t]]\n",
    "    X_hot.append(hot)\n",
    "\n",
    "X_hot[:5]"
   ]
  },
  {
   "cell_type": "code",
   "execution_count": 296,
   "metadata": {},
   "outputs": [
    {
     "data": {
      "text/plain": [
       "array([1, 0, 1, 0, 0], dtype=int64)"
      ]
     },
     "execution_count": 296,
     "metadata": {},
     "output_type": "execute_result"
    }
   ],
   "source": [
    "label_encoder = LabelEncoder()\n",
    "y_hot = label_encoder.fit_transform(y) # integer_encoded\n",
    "y_hot[:5]"
   ]
  },
  {
   "cell_type": "markdown",
   "metadata": {},
   "source": [
    "# RNN"
   ]
  },
  {
   "cell_type": "code",
   "execution_count": 297,
   "metadata": {},
   "outputs": [],
   "source": [
    "from keras.models import Sequential\n",
    "from keras.layers import Dense, GRU, Flatten, LSTM\n",
    "from keras.layers.embeddings import Embedding\n",
    "from keras.preprocessing import sequence"
   ]
  },
  {
   "cell_type": "code",
   "execution_count": 298,
   "metadata": {},
   "outputs": [],
   "source": [
    "# # Split data train and test\n",
    "# split_1 = int(0.8 * len(datacat))\n",
    "# train_x = X_hot[:split_1]\n",
    "# test_x = X_hot[split_1:]\n",
    "\n",
    "# train_y = y_hot[:split_1]\n",
    "# test_y = y_hot[split_1:]"
   ]
  },
  {
   "cell_type": "code",
   "execution_count": 299,
   "metadata": {},
   "outputs": [],
   "source": [
    "from sklearn.model_selection import train_test_split\n",
    "\n",
    "X_train, X_test, y_train, y_test = train_test_split(X_hot, y_hot, test_size=0.2, random_state=19)"
   ]
  },
  {
   "cell_type": "code",
   "execution_count": 300,
   "metadata": {},
   "outputs": [
    {
     "name": "stdout",
     "output_type": "stream",
     "text": [
      "{0: 'a0', 1: 'a1', 2: 'a2', 3: 'a3', 4: 'a4', 5: 'male', 6: 'female', 7: 'cp1', 8: 'cp2', 9: 'cp3', 10: 'cp4', 11: 'rb0', 12: 'rb1', 13: 'rb2', 14: 'rb3', 15: 'rb4', 16: 'sc0', 17: 'sc1', 18: 'sc2', 19: 'fbs0', 20: 'fbs1', 21: 'norm', 22: 'abnormal', 23: 'hyper', 24: 'mh0', 25: 'mh1', 26: 'mh2', 27: 'mh3', 28: 'mh4', 29: 'mh5', 30: 'ang0', 31: 'ang1', 32: 'op0', 33: 'op1', 34: 'op2', 35: 'op3', 36: 'op4', 37: 'op5', 38: 'op6', 39: 'up', 40: 'flat', 41: 'down', 42: 'nmv0', 43: 'nmv1', 44: 'nmv2', 45: 'nmv3', 46: 'normal', 47: 'fixed', 48: 'reversible'}\n"
     ]
    }
   ],
   "source": [
    "# We reverse it, mapping integer indices to words\n",
    "reverse_word_index = dict([(value, key) for (key, value) in word_index.items()])\n",
    "print (reverse_word_index)"
   ]
  },
  {
   "cell_type": "code",
   "execution_count": 301,
   "metadata": {},
   "outputs": [
    {
     "name": "stdout",
     "output_type": "stream",
     "text": [
      "[3, 5, 9, 14, 16, 19, 23, 26, 31, 33, 41, 42, 46]\n",
      "a3 male cp3 rb3 sc0 fbs0 hyper mh2 ang1 op1 down nmv0 normal\n",
      "[3, 6, 10, 13, 18, 19, 21, 26, 31, 33, 40, 43, 48]\n",
      "a3 female cp4 rb2 sc2 fbs0 norm mh2 ang1 op1 flat nmv1 reversible\n"
     ]
    }
   ],
   "source": [
    "for y in range(len(X_train[:2])):\n",
    "    print(X_train[y])\n",
    "    tt = ' '.join([reverse_word_index.get(i,'') for i in X_train[y]])\n",
    "    print (tt)"
   ]
  },
  {
   "cell_type": "code",
   "execution_count": 302,
   "metadata": {},
   "outputs": [
    {
     "data": {
      "text/plain": [
       "[3, 5, 9, 14, 16, 19, 23, 26, 31, 33, 41, 42, 46]"
      ]
     },
     "execution_count": 302,
     "metadata": {},
     "output_type": "execute_result"
    }
   ],
   "source": [
    "X_train[0]"
   ]
  },
  {
   "cell_type": "code",
   "execution_count": 303,
   "metadata": {},
   "outputs": [],
   "source": [
    "X_train = np.array(X_train)\n",
    "X_test = np.array(X_test)"
   ]
  },
  {
   "cell_type": "code",
   "execution_count": 304,
   "metadata": {
    "scrolled": true
   },
   "outputs": [
    {
     "name": "stdout",
     "output_type": "stream",
     "text": [
      "_________________________________________________________________\n",
      "Layer (type)                 Output Shape              Param #   \n",
      "=================================================================\n",
      "embedding_15 (Embedding)     (None, 13, 10)            490       \n",
      "_________________________________________________________________\n",
      "gru_15 (GRU)                 (None, 10)                630       \n",
      "_________________________________________________________________\n",
      "dense_15 (Dense)             (None, 1)                 11        \n",
      "=================================================================\n",
      "Total params: 1,131\n",
      "Trainable params: 1,131\n",
      "Non-trainable params: 0\n",
      "_________________________________________________________________\n",
      "None\n",
      "Epoch 1/100\n",
      "216/216 [==============================] - 3s 15ms/step - loss: 0.6921 - acc: 0.6111\n",
      "Epoch 2/100\n",
      "216/216 [==============================] - 0s 204us/step - loss: 0.6900 - acc: 0.5602\n",
      "Epoch 3/100\n",
      "216/216 [==============================] - 0s 193us/step - loss: 0.6877 - acc: 0.5602\n",
      "Epoch 4/100\n",
      "216/216 [==============================] - 0s 178us/step - loss: 0.6857 - acc: 0.5602\n",
      "Epoch 5/100\n",
      "216/216 [==============================] - 0s 202us/step - loss: 0.6831 - acc: 0.5602\n",
      "Epoch 6/100\n",
      "216/216 [==============================] - 0s 181us/step - loss: 0.6804 - acc: 0.5602\n",
      "Epoch 7/100\n",
      "216/216 [==============================] - 0s 171us/step - loss: 0.6774 - acc: 0.5602\n",
      "Epoch 8/100\n",
      "216/216 [==============================] - 0s 164us/step - loss: 0.6740 - acc: 0.5602\n",
      "Epoch 9/100\n",
      "216/216 [==============================] - 0s 132us/step - loss: 0.6703 - acc: 0.5602\n",
      "Epoch 10/100\n",
      "216/216 [==============================] - 0s 198us/step - loss: 0.6656 - acc: 0.5787\n",
      "Epoch 11/100\n",
      "216/216 [==============================] - 0s 142us/step - loss: 0.6611 - acc: 0.6296\n",
      "Epoch 12/100\n",
      "216/216 [==============================] - 0s 169us/step - loss: 0.6550 - acc: 0.6574\n",
      "Epoch 13/100\n",
      "216/216 [==============================] - 0s 196us/step - loss: 0.6488 - acc: 0.6898\n",
      "Epoch 14/100\n",
      "216/216 [==============================] - 0s 168us/step - loss: 0.6420 - acc: 0.6898\n",
      "Epoch 15/100\n",
      "216/216 [==============================] - 0s 169us/step - loss: 0.6342 - acc: 0.6991\n",
      "Epoch 16/100\n",
      "216/216 [==============================] - 0s 163us/step - loss: 0.6257 - acc: 0.7037\n",
      "Epoch 17/100\n",
      "216/216 [==============================] - 0s 193us/step - loss: 0.6162 - acc: 0.7176\n",
      "Epoch 18/100\n",
      "216/216 [==============================] - 0s 199us/step - loss: 0.6055 - acc: 0.7176\n",
      "Epoch 19/100\n",
      "216/216 [==============================] - 0s 191us/step - loss: 0.5943 - acc: 0.7407\n",
      "Epoch 20/100\n",
      "216/216 [==============================] - 0s 169us/step - loss: 0.5825 - acc: 0.7546\n",
      "Epoch 21/100\n",
      "216/216 [==============================] - 0s 179us/step - loss: 0.5690 - acc: 0.7685\n",
      "Epoch 22/100\n",
      "216/216 [==============================] - 0s 155us/step - loss: 0.5544 - acc: 0.7917\n",
      "Epoch 23/100\n",
      "216/216 [==============================] - 0s 206us/step - loss: 0.5393 - acc: 0.8102\n",
      "Epoch 24/100\n",
      "216/216 [==============================] - 0s 157us/step - loss: 0.5227 - acc: 0.8148\n",
      "Epoch 25/100\n",
      "216/216 [==============================] - 0s 181us/step - loss: 0.5070 - acc: 0.8102\n",
      "Epoch 26/100\n",
      "216/216 [==============================] - 0s 150us/step - loss: 0.4902 - acc: 0.8194\n",
      "Epoch 27/100\n",
      "216/216 [==============================] - 0s 174us/step - loss: 0.4725 - acc: 0.8287\n",
      "Epoch 28/100\n",
      "216/216 [==============================] - 0s 163us/step - loss: 0.4574 - acc: 0.8287\n",
      "Epoch 29/100\n",
      "216/216 [==============================] - 0s 185us/step - loss: 0.4417 - acc: 0.8333\n",
      "Epoch 30/100\n",
      "216/216 [==============================] - 0s 170us/step - loss: 0.4273 - acc: 0.8519\n",
      "Epoch 31/100\n",
      "216/216 [==============================] - 0s 202us/step - loss: 0.4135 - acc: 0.8519\n",
      "Epoch 32/100\n",
      "216/216 [==============================] - 0s 183us/step - loss: 0.4005 - acc: 0.8472\n",
      "Epoch 33/100\n",
      "216/216 [==============================] - 0s 184us/step - loss: 0.3883 - acc: 0.8472\n",
      "Epoch 34/100\n",
      "216/216 [==============================] - 0s 203us/step - loss: 0.3788 - acc: 0.8611\n",
      "Epoch 35/100\n",
      "216/216 [==============================] - 0s 175us/step - loss: 0.3697 - acc: 0.8657\n",
      "Epoch 36/100\n",
      "216/216 [==============================] - 0s 195us/step - loss: 0.3616 - acc: 0.8611\n",
      "Epoch 37/100\n",
      "216/216 [==============================] - 0s 202us/step - loss: 0.3561 - acc: 0.8565\n",
      "Epoch 38/100\n",
      "216/216 [==============================] - 0s 190us/step - loss: 0.3521 - acc: 0.8519\n",
      "Epoch 39/100\n",
      "216/216 [==============================] - 0s 171us/step - loss: 0.3484 - acc: 0.8472\n",
      "Epoch 40/100\n",
      "216/216 [==============================] - 0s 147us/step - loss: 0.3453 - acc: 0.8426\n",
      "Epoch 41/100\n",
      "216/216 [==============================] - 0s 188us/step - loss: 0.3426 - acc: 0.8426\n",
      "Epoch 42/100\n",
      "216/216 [==============================] - 0s 202us/step - loss: 0.3412 - acc: 0.8472\n",
      "Epoch 43/100\n",
      "216/216 [==============================] - 0s 178us/step - loss: 0.3387 - acc: 0.8472\n",
      "Epoch 44/100\n",
      "216/216 [==============================] - 0s 162us/step - loss: 0.3369 - acc: 0.8426\n",
      "Epoch 45/100\n",
      "216/216 [==============================] - 0s 164us/step - loss: 0.3341 - acc: 0.8519\n",
      "Epoch 46/100\n",
      "216/216 [==============================] - 0s 178us/step - loss: 0.3332 - acc: 0.8519\n",
      "Epoch 47/100\n",
      "216/216 [==============================] - 0s 171us/step - loss: 0.3320 - acc: 0.8426\n",
      "Epoch 48/100\n",
      "216/216 [==============================] - 0s 156us/step - loss: 0.3310 - acc: 0.8426\n",
      "Epoch 49/100\n",
      "216/216 [==============================] - 0s 169us/step - loss: 0.3287 - acc: 0.8426\n",
      "Epoch 50/100\n",
      "216/216 [==============================] - 0s 185us/step - loss: 0.3274 - acc: 0.8611\n",
      "Epoch 51/100\n",
      "216/216 [==============================] - 0s 191us/step - loss: 0.3252 - acc: 0.8796\n",
      "Epoch 52/100\n",
      "216/216 [==============================] - 0s 166us/step - loss: 0.3235 - acc: 0.8704\n",
      "Epoch 53/100\n",
      "216/216 [==============================] - 0s 176us/step - loss: 0.3218 - acc: 0.8750\n",
      "Epoch 54/100\n",
      "216/216 [==============================] - 0s 205us/step - loss: 0.3203 - acc: 0.8796\n",
      "Epoch 55/100\n",
      "216/216 [==============================] - 0s 179us/step - loss: 0.3197 - acc: 0.8796\n",
      "Epoch 56/100\n",
      "216/216 [==============================] - 0s 155us/step - loss: 0.3187 - acc: 0.8750\n",
      "Epoch 57/100\n",
      "216/216 [==============================] - 0s 166us/step - loss: 0.3180 - acc: 0.8704\n",
      "Epoch 58/100\n",
      "216/216 [==============================] - 0s 167us/step - loss: 0.3161 - acc: 0.8704\n",
      "Epoch 59/100\n",
      "216/216 [==============================] - 0s 175us/step - loss: 0.3148 - acc: 0.8796\n",
      "Epoch 60/100\n",
      "216/216 [==============================] - 0s 154us/step - loss: 0.3153 - acc: 0.8750\n",
      "Epoch 61/100\n",
      "216/216 [==============================] - 0s 207us/step - loss: 0.3148 - acc: 0.8657\n",
      "Epoch 62/100\n",
      "216/216 [==============================] - 0s 178us/step - loss: 0.3138 - acc: 0.8750\n",
      "Epoch 63/100\n",
      "216/216 [==============================] - 0s 165us/step - loss: 0.3136 - acc: 0.8796\n",
      "Epoch 64/100\n",
      "216/216 [==============================] - 0s 160us/step - loss: 0.3114 - acc: 0.8796\n",
      "Epoch 65/100\n",
      "216/216 [==============================] - 0s 155us/step - loss: 0.3107 - acc: 0.8843\n",
      "Epoch 66/100\n",
      "216/216 [==============================] - 0s 152us/step - loss: 0.3096 - acc: 0.8843\n",
      "Epoch 67/100\n",
      "216/216 [==============================] - 0s 181us/step - loss: 0.3091 - acc: 0.8843\n",
      "Epoch 68/100\n",
      "216/216 [==============================] - 0s 168us/step - loss: 0.3083 - acc: 0.8796\n",
      "Epoch 69/100\n",
      "216/216 [==============================] - 0s 183us/step - loss: 0.3080 - acc: 0.8796\n",
      "Epoch 70/100\n",
      "216/216 [==============================] - 0s 160us/step - loss: 0.3081 - acc: 0.8704\n",
      "Epoch 71/100\n",
      "216/216 [==============================] - 0s 165us/step - loss: 0.3078 - acc: 0.8657\n",
      "Epoch 72/100\n",
      "216/216 [==============================] - 0s 174us/step - loss: 0.3064 - acc: 0.8704\n",
      "Epoch 73/100\n",
      "216/216 [==============================] - 0s 171us/step - loss: 0.3055 - acc: 0.8750\n",
      "Epoch 74/100\n",
      "216/216 [==============================] - 0s 184us/step - loss: 0.3050 - acc: 0.8796\n",
      "Epoch 75/100\n",
      "216/216 [==============================] - 0s 156us/step - loss: 0.3040 - acc: 0.8796\n",
      "Epoch 76/100\n"
     ]
    },
    {
     "name": "stdout",
     "output_type": "stream",
     "text": [
      "216/216 [==============================] - 0s 149us/step - loss: 0.3031 - acc: 0.8704\n",
      "Epoch 77/100\n",
      "216/216 [==============================] - 0s 120us/step - loss: 0.3033 - acc: 0.8704\n",
      "Epoch 78/100\n",
      "216/216 [==============================] - 0s 157us/step - loss: 0.3018 - acc: 0.8796\n",
      "Epoch 79/100\n",
      "216/216 [==============================] - 0s 188us/step - loss: 0.3014 - acc: 0.8796\n",
      "Epoch 80/100\n",
      "216/216 [==============================] - 0s 150us/step - loss: 0.3009 - acc: 0.8843\n",
      "Epoch 81/100\n",
      "216/216 [==============================] - 0s 206us/step - loss: 0.3002 - acc: 0.8889\n",
      "Epoch 82/100\n",
      "216/216 [==============================] - 0s 218us/step - loss: 0.2995 - acc: 0.8889\n",
      "Epoch 83/100\n",
      "216/216 [==============================] - 0s 181us/step - loss: 0.2991 - acc: 0.8935\n",
      "Epoch 84/100\n",
      "216/216 [==============================] - 0s 211us/step - loss: 0.2984 - acc: 0.8889\n",
      "Epoch 85/100\n",
      "216/216 [==============================] - 0s 184us/step - loss: 0.2978 - acc: 0.8889\n",
      "Epoch 86/100\n",
      "216/216 [==============================] - 0s 175us/step - loss: 0.2975 - acc: 0.8889\n",
      "Epoch 87/100\n",
      "216/216 [==============================] - 0s 166us/step - loss: 0.2972 - acc: 0.8889\n",
      "Epoch 88/100\n",
      "216/216 [==============================] - 0s 168us/step - loss: 0.2962 - acc: 0.8889\n",
      "Epoch 89/100\n",
      "216/216 [==============================] - 0s 168us/step - loss: 0.2961 - acc: 0.8935\n",
      "Epoch 90/100\n",
      "216/216 [==============================] - 0s 208us/step - loss: 0.2953 - acc: 0.8935\n",
      "Epoch 91/100\n",
      "216/216 [==============================] - 0s 187us/step - loss: 0.2956 - acc: 0.8935\n",
      "Epoch 92/100\n",
      "216/216 [==============================] - 0s 181us/step - loss: 0.2949 - acc: 0.8981\n",
      "Epoch 93/100\n",
      "216/216 [==============================] - 0s 211us/step - loss: 0.2945 - acc: 0.8935\n",
      "Epoch 94/100\n",
      "216/216 [==============================] - 0s 241us/step - loss: 0.2940 - acc: 0.8981\n",
      "Epoch 95/100\n",
      "216/216 [==============================] - 0s 192us/step - loss: 0.2937 - acc: 0.9028\n",
      "Epoch 96/100\n",
      "216/216 [==============================] - 0s 154us/step - loss: 0.2924 - acc: 0.9028\n",
      "Epoch 97/100\n",
      "216/216 [==============================] - 0s 161us/step - loss: 0.2924 - acc: 0.8981\n",
      "Epoch 98/100\n",
      "216/216 [==============================] - 0s 158us/step - loss: 0.2920 - acc: 0.8889\n",
      "Epoch 99/100\n",
      "216/216 [==============================] - 0s 150us/step - loss: 0.2912 - acc: 0.8935\n",
      "Epoch 100/100\n",
      "216/216 [==============================] - 0s 162us/step - loss: 0.2909 - acc: 0.9028\n"
     ]
    },
    {
     "data": {
      "text/plain": [
       "<keras.callbacks.History at 0x1cbc5c67518>"
      ]
     },
     "execution_count": 304,
     "metadata": {},
     "output_type": "execute_result"
    }
   ],
   "source": [
    "# create the model RNN\n",
    "model = Sequential()\n",
    "model.add(Embedding(len(vocab), 10, input_length=(len(X_train[0]))))\n",
    "model.add(GRU(10))\n",
    "model.add(Dense(1, activation='sigmoid'))\n",
    "model.compile(loss='binary_crossentropy', optimizer='adam', metrics=['accuracy'])\n",
    "print(model.summary())\n",
    "\n",
    "# Train\n",
    "model.fit(X_train, y_train, epochs=100, batch_size=64)"
   ]
  },
  {
   "cell_type": "code",
   "execution_count": 305,
   "metadata": {},
   "outputs": [
    {
     "name": "stdout",
     "output_type": "stream",
     "text": [
      "Accuracy: 92.59%\n"
     ]
    }
   ],
   "source": [
    "# Final evaluation of the model\n",
    "scores = model.evaluate(X_test, y_test, verbose=0)\n",
    "print(\"Accuracy: %.2f%%\" % (scores[1]*100))"
   ]
  },
  {
   "cell_type": "code",
   "execution_count": 306,
   "metadata": {},
   "outputs": [
    {
     "data": {
      "text/plain": [
       "0.25180029382722247"
      ]
     },
     "execution_count": 306,
     "metadata": {},
     "output_type": "execute_result"
    }
   ],
   "source": [
    "from sklearn.metrics import accuracy_score, log_loss\n",
    "\n",
    "y_pred = model.predict_proba(X_test)\n",
    "log_loss(y_test, y_pred)"
   ]
  },
  {
   "cell_type": "code",
   "execution_count": null,
   "metadata": {},
   "outputs": [],
   "source": []
  }
 ],
 "metadata": {
  "kernelspec": {
   "display_name": "Python 3",
   "language": "python",
   "name": "python3"
  },
  "language_info": {
   "codemirror_mode": {
    "name": "ipython",
    "version": 3
   },
   "file_extension": ".py",
   "mimetype": "text/x-python",
   "name": "python",
   "nbconvert_exporter": "python",
   "pygments_lexer": "ipython3",
   "version": "3.6.8"
  }
 },
 "nbformat": 4,
 "nbformat_minor": 2
}
