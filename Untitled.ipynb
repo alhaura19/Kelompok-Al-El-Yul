{
 "cells": [
  {
   "cell_type": "code",
   "execution_count": 6,
   "metadata": {},
   "outputs": [],
   "source": [
    "import pandas as pd\n",
    "import numpy as np\n",
    "import csv"
   ]
  },
  {
   "cell_type": "code",
   "execution_count": 17,
   "metadata": {},
   "outputs": [
    {
     "name": "stdout",
     "output_type": "stream",
     "text": [
      "[70. 67. 57. 64. 74. 65. 56. 59. 60. 63. 59. 53. 44. 61. 57. 71. 46. 53.\n",
      " 64. 40. 67. 48. 43. 47. 54. 48. 46. 51. 58. 71. 57. 66. 37. 59. 50. 48.\n",
      " 61. 59. 42. 48. 40. 62. 44. 46. 59. 58. 49. 44. 66. 65. 42. 52. 65. 63.\n",
      " 45. 41. 61. 60. 59. 62. 57. 51. 44. 60. 63. 57. 51. 58. 44. 47. 61. 57.\n",
      " 70. 76. 67. 45. 45. 39. 42. 56. 58. 35. 58. 41. 57. 42. 62. 59. 41. 50.\n",
      " 59. 61. 54. 54. 52. 47. 66. 58. 64. 50. 44. 67. 49. 57. 63. 48. 51. 60.\n",
      " 59. 45. 55. 41. 60. 54. 42. 49. 46. 56. 66. 56. 49. 54. 57. 65. 54. 54.\n",
      " 62. 52. 52. 60. 63. 66. 42. 64. 54. 46. 67. 56. 34. 57. 64. 59. 50. 51.\n",
      " 54. 53. 52. 40. 58. 41. 41. 50. 54. 64. 51. 46. 55. 45. 56. 66. 38. 62.\n",
      " 55. 58. 43. 64. 50. 53. 45. 65. 69. 69. 67. 68. 34. 62. 51. 46. 67. 50.\n",
      " 42. 56. 41. 42. 53. 43. 56. 52. 62. 70. 54. 70. 54. 35. 48. 55. 58. 54.\n",
      " 69. 77. 68. 58. 60. 51. 55. 52. 60. 58. 64. 37. 59. 51. 43. 58. 29. 41.\n",
      " 63. 51. 54. 44. 54. 65. 57. 63. 35. 41. 62. 43. 58. 52. 61. 39. 45. 52.\n",
      " 62. 62. 53. 43. 47. 52. 68. 39. 53. 62. 51. 60. 65. 65. 60. 60. 54. 44.\n",
      " 44. 51. 59. 71. 61. 55. 64. 43. 58. 60. 58. 49. 48. 52. 44. 56. 57. 67.]\n"
     ]
    }
   ],
   "source": [
    "data = np.loadtxt( 'heart.dat' )\n",
    "\n",
    "print (data[:, 0])"
   ]
  },
  {
   "cell_type": "code",
   "execution_count": 13,
   "metadata": {},
   "outputs": [
    {
     "name": "stdout",
     "output_type": "stream",
     "text": [
      "[]\n"
     ]
    },
    {
     "name": "stderr",
     "output_type": "stream",
     "text": [
      "C:\\Users\\ASUS-pc\\Anaconda3\\lib\\site-packages\\ipykernel_launcher.py:1: UserWarning: loadtxt: Empty input file: \"heart.dat\"\n",
      "  \"\"\"Entry point for launching an IPython kernel.\n"
     ]
    }
   ],
   "source": []
  },
  {
   "cell_type": "code",
   "execution_count": null,
   "metadata": {},
   "outputs": [],
   "source": []
  },
  {
   "cell_type": "code",
   "execution_count": null,
   "metadata": {},
   "outputs": [],
   "source": []
  }
 ],
 "metadata": {
  "kernelspec": {
   "display_name": "Python 3",
   "language": "python",
   "name": "python3"
  },
  "language_info": {
   "codemirror_mode": {
    "name": "ipython",
    "version": 3
   },
   "file_extension": ".py",
   "mimetype": "text/x-python",
   "name": "python",
   "nbconvert_exporter": "python",
   "pygments_lexer": "ipython3",
   "version": "3.6.5"
  }
 },
 "nbformat": 4,
 "nbformat_minor": 2
}
