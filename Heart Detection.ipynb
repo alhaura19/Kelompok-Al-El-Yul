{
 "cells": [
  {
   "cell_type": "code",
   "execution_count": 6,
   "metadata": {},
   "outputs": [],
   "source": [
    "import pandas as pd\n",
    "import numpy as np\n",
    "import csv"
   ]
  },
  {
   "cell_type": "code",
   "execution_count": 18,
   "metadata": {},
   "outputs": [
    {
     "data": {
      "text/plain": [
       "array([[70.,  1.,  4., ...,  3.,  3.,  2.],\n",
       "       [67.,  0.,  3., ...,  0.,  7.,  1.],\n",
       "       [57.,  1.,  2., ...,  0.,  7.,  2.],\n",
       "       ...,\n",
       "       [56.,  0.,  2., ...,  0.,  3.,  1.],\n",
       "       [57.,  1.,  4., ...,  0.,  6.,  1.],\n",
       "       [67.,  1.,  4., ...,  3.,  3.,  2.]])"
      ]
     },
     "execution_count": 18,
     "metadata": {},
     "output_type": "execute_result"
    }
   ],
   "source": [
    "data = np.loadtxt( 'heart.dat' )\n",
    "data"
   ]
  },
  {
   "cell_type": "code",
   "execution_count": 20,
   "metadata": {},
   "outputs": [
    {
     "data": {
      "text/plain": [
       "array([[70. ,  1. ,  4. , ...,  2.4,  2. ,  3. ],\n",
       "       [67. ,  0. ,  3. , ...,  1.6,  2. ,  0. ],\n",
       "       [57. ,  1. ,  2. , ...,  0.3,  1. ,  0. ],\n",
       "       ...,\n",
       "       [56. ,  0. ,  2. , ...,  1.3,  2. ,  0. ],\n",
       "       [57. ,  1. ,  4. , ...,  0.4,  2. ,  0. ],\n",
       "       [67. ,  1. ,  4. , ...,  1.5,  2. ,  3. ]])"
      ]
     },
     "execution_count": 20,
     "metadata": {},
     "output_type": "execute_result"
    }
   ],
   "source": [
    "features = data[:,0:12]\n",
    "features"
   ]
  },
  {
   "cell_type": "code",
   "execution_count": 21,
   "metadata": {},
   "outputs": [
    {
     "data": {
      "text/plain": [
       "array([2., 1., 2., 1., 1., 1., 2., 2., 2., 2., 1., 1., 1., 2., 1., 1., 2.,\n",
       "       2., 1., 1., 2., 1., 1., 1., 1., 1., 1., 1., 2., 1., 2., 1., 1., 2.,\n",
       "       2., 2., 2., 2., 1., 1., 2., 1., 1., 1., 2., 1., 2., 2., 2., 2., 2.,\n",
       "       1., 1., 1., 1., 1., 2., 1., 2., 2., 1., 2., 1., 1., 1., 2., 1., 2.,\n",
       "       1., 2., 2., 1., 1., 1., 1., 2., 1., 1., 1., 1., 2., 2., 2., 1., 1.,\n",
       "       1., 1., 1., 1., 2., 1., 2., 2., 2., 2., 2., 1., 2., 1., 1., 1., 2.,\n",
       "       1., 2., 2., 2., 1., 2., 2., 1., 2., 1., 2., 1., 1., 1., 2., 2., 1.,\n",
       "       2., 2., 2., 2., 1., 1., 1., 2., 1., 1., 2., 2., 2., 1., 2., 1., 1.,\n",
       "       1., 2., 1., 1., 2., 1., 2., 1., 2., 2., 2., 2., 2., 1., 1., 1., 1.,\n",
       "       1., 1., 1., 2., 1., 1., 2., 2., 2., 1., 2., 1., 1., 1., 1., 1., 2.,\n",
       "       1., 2., 2., 1., 1., 2., 2., 2., 2., 1., 1., 2., 2., 1., 1., 1., 2.,\n",
       "       1., 1., 2., 1., 2., 1., 2., 1., 1., 1., 1., 1., 2., 1., 2., 2., 2.,\n",
       "       2., 1., 1., 1., 2., 1., 2., 1., 1., 2., 1., 1., 1., 1., 1., 1., 2.,\n",
       "       2., 1., 2., 1., 1., 2., 2., 1., 1., 2., 2., 1., 2., 1., 2., 1., 2.,\n",
       "       1., 1., 2., 1., 1., 2., 1., 2., 2., 1., 2., 2., 2., 1., 2., 1., 1.,\n",
       "       1., 1., 2., 2., 1., 1., 2., 2., 1., 2., 1., 1., 1., 1., 2.])"
      ]
     },
     "execution_count": 21,
     "metadata": {},
     "output_type": "execute_result"
    }
   ],
   "source": [
    "target = data[:,13]\n",
    "target"
   ]
  },
  {
   "cell_type": "code",
   "execution_count": null,
   "metadata": {},
   "outputs": [],
   "source": []
  }
 ],
 "metadata": {
  "kernelspec": {
   "display_name": "Python 3",
   "language": "python",
   "name": "python3"
  },
  "language_info": {
   "codemirror_mode": {
    "name": "ipython",
    "version": 3
   },
   "file_extension": ".py",
   "mimetype": "text/x-python",
   "name": "python",
   "nbconvert_exporter": "python",
   "pygments_lexer": "ipython3",
   "version": "3.6.5"
  }
 },
 "nbformat": 4,
 "nbformat_minor": 2
}
